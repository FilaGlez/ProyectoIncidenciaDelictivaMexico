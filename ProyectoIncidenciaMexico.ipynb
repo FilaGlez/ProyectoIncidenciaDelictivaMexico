{
 "cells": [
  {
   "cell_type": "code",
   "execution_count": 4,
   "metadata": {},
   "outputs": [],
   "source": [
    "# Librerias\n",
    "import numpy as np # linear algebra\n",
    "import pandas as pd # data processing, CSV file I/O (e.g. pd.read_csv)\n",
    "from tabulate import tabulate\n",
    "import matplotlib.pyplot as plt\n",
    "#import seaborn as sns\n",
    "from sklearn.model_selection import train_test_split\n",
    "#sns.set_style()\n",
    "#import plotly.graph_objects as go\n",
    "import plotly.express as px\n",
    "#import calendar\n",
    "#import plotly.io as pio"
   ]
  },
  {
   "cell_type": "code",
   "execution_count": 5,
   "metadata": {},
   "outputs": [],
   "source": [
    "#Reading file and checking columns\n",
    "path = \"D:\\\\Proyects\\\\MéxicoIncidenciaD\\\\Data\\\\\"\n",
    "idedo = pd.read_csv(path + \"IDEFC_NM_ago23.csv\", encoding='iso-8859-1') #incidencia delictiva estatal\n",
    "idmun = pd.read_csv(path + \"IDM_NM_ago23.csv\", encoding='iso-8859-1') #incidencia delictiva municipal\n",
    "idfc = pd.read_csv(path + \"IDVFC_NM_ago23.csv\", encoding='iso-8859-1') #incidencia fuera fuero comun"
   ]
  },
  {
   "cell_type": "code",
   "execution_count": 7,
   "metadata": {},
   "outputs": [
    {
     "name": "stdout",
     "output_type": "stream",
     "text": [
      "<class 'pandas.core.frame.DataFrame'>\n",
      "RangeIndex: 28224 entries, 0 to 28223\n",
      "Data columns (total 19 columns):\n",
      " #   Column                  Non-Null Count  Dtype  \n",
      "---  ------                  --------------  -----  \n",
      " 0   Año                     28224 non-null  int64  \n",
      " 1   Clave_Ent               28224 non-null  int64  \n",
      " 2   Entidad                 28224 non-null  object \n",
      " 3   Bien jurídico afectado  28224 non-null  object \n",
      " 4   Tipo de delito          28224 non-null  object \n",
      " 5   Subtipo de delito       28224 non-null  object \n",
      " 6   Modalidad               28224 non-null  object \n",
      " 7   Enero                   28224 non-null  int64  \n",
      " 8   Febrero                 28224 non-null  int64  \n",
      " 9   Marzo                   28224 non-null  int64  \n",
      " 10  Abril                   28224 non-null  int64  \n",
      " 11  Mayo                    28224 non-null  int64  \n",
      " 12  Junio                   28224 non-null  int64  \n",
      " 13  Julio                   28224 non-null  int64  \n",
      " 14  Agosto                  28224 non-null  int64  \n",
      " 15  Septiembre              28224 non-null  float64\n",
      " 16  Octubre                 28224 non-null  float64\n",
      " 17  Noviembre               28224 non-null  float64\n",
      " 18  Diciembre               28224 non-null  float64\n",
      "dtypes: float64(4), int64(10), object(5)\n",
      "memory usage: 4.1+ MB\n"
     ]
    }
   ],
   "source": [
    "#df = idedo.replace('nan', pd.NA)\n",
    "#df.isna().sum()\n",
    "df = idedo.replace(to_replace= np.nan, value=0)\n",
    "df.isna().sum()\n",
    "df.info()"
   ]
  },
  {
   "cell_type": "code",
   "execution_count": 8,
   "metadata": {},
   "outputs": [],
   "source": [
    "df = idedo.replace(to_replace= np.nan, value=0)\n",
    "numeric_columns =  df.loc[:,[\"Año\",\"Clave_Ent\",\"Enero\",\"Febrero\",\"Marzo\",\"Abril\",\"Mayo\",\"Junio\",\"Julio\",\"Agosto\",\"Septiembre\",\"Octubre\",\"Noviembre\",\"Diciembre\"]]\n",
    "for col in numeric_columns:\n",
    "    df[col] = pd.to_numeric(df[col],errors='coerce').astype(np.int64)\n",
    "#df.tail(10)\n",
    "### Creo que esta demás la otra variable, checar y hacer test si es el caso."
   ]
  },
  {
   "cell_type": "code",
   "execution_count": 9,
   "metadata": {},
   "outputs": [],
   "source": [
    "#Columna recuento\n",
    "df['Recuento'] = df[\"Enero\"] + df[\"Febrero\"] + df[\"Marzo\"] + df[\"Abril\"] + df[\"Mayo\"] + df[\"Junio\"] + df[\"Julio\"] + df[\"Agosto\"] + df[\"Septiembre\"] + df[\"Octubre\"] + df[\"Noviembre\"] + df[\"Diciembre\"] \n",
    "prueba = pd.DataFrame(df)\n",
    "\n",
    "# Edo_recuento = df.groupby('Entidad')['Recuento'].sum().reset_index()\n",
    "# print(Edo_recuento)"
   ]
  },
  {
   "cell_type": "code",
   "execution_count": 10,
   "metadata": {},
   "outputs": [
    {
     "data": {
      "application/vnd.plotly.v1+json": {
       "config": {
        "plotlyServerURL": "https://plot.ly"
       },
       "data": [
        {
         "alignmentgroup": "True",
         "cliponaxis": false,
         "hovertemplate": "Entidad=%{x}<br>Recuento por estados=%{marker.color}<extra></extra>",
         "legendgroup": "",
         "marker": {
          "color": [
           295552,
           926631,
           189223,
           63267,
           182703,
           591405,
           1852285,
           473502,
           197053,
           255587,
           1088399,
           255823,
           384834,
           1190493,
           367354,
           384846,
           3074045,
           49043,
           743857,
           308721,
           574863,
           455345,
           334280,
           370198,
           222097,
           260898,
           461302,
           361201,
           48557,
           617754,
           146860,
           188401
          ],
          "coloraxis": "coloraxis",
          "line": {
           "color": "rgb(8,48,107)",
           "width": 1.5
          },
          "pattern": {
           "shape": ""
          }
         },
         "name": "",
         "offsetgroup": "",
         "opacity": 0.8,
         "orientation": "v",
         "showlegend": false,
         "text": [
          295552,
          926631,
          189223,
          63267,
          182703,
          591405,
          1852285,
          473502,
          197053,
          255587,
          1088399,
          255823,
          384834,
          1190493,
          367354,
          384846,
          3074045,
          49043,
          743857,
          308721,
          574863,
          455345,
          334280,
          370198,
          222097,
          260898,
          461302,
          361201,
          48557,
          617754,
          146860,
          188401
         ],
         "textangle": 0,
         "textfont": {
          "size": 12
         },
         "textposition": "outside",
         "texttemplate": "%{y:.2s}",
         "type": "bar",
         "x": [
          "Aguascalientes",
          "Baja California",
          "Baja California Sur",
          "Campeche",
          "Chiapas",
          "Chihuahua",
          "Ciudad de México",
          "Coahuila de Zaragoza",
          "Colima",
          "Durango",
          "Guanajuato",
          "Guerrero",
          "Hidalgo",
          "Jalisco",
          "Michoacán de Ocampo",
          "Morelos",
          "México",
          "Nayarit",
          "Nuevo León",
          "Oaxaca",
          "Puebla",
          "Querétaro",
          "Quintana Roo",
          "San Luis Potosí",
          "Sinaloa",
          "Sonora",
          "Tabasco",
          "Tamaulipas",
          "Tlaxcala",
          "Veracruz de Ignacio de la Llave",
          "Yucatán",
          "Zacatecas"
         ],
         "xaxis": "x",
         "y": [
          295552,
          926631,
          189223,
          63267,
          182703,
          591405,
          1852285,
          473502,
          197053,
          255587,
          1088399,
          255823,
          384834,
          1190493,
          367354,
          384846,
          3074045,
          49043,
          743857,
          308721,
          574863,
          455345,
          334280,
          370198,
          222097,
          260898,
          461302,
          361201,
          48557,
          617754,
          146860,
          188401
         ],
         "yaxis": "y"
        }
       ],
       "layout": {
        "barmode": "relative",
        "coloraxis": {
         "colorbar": {
          "title": {
           "text": "Recuento por estados"
          }
         },
         "colorscale": [
          [
           0,
           "#440154"
          ],
          [
           0.1111111111111111,
           "#482878"
          ],
          [
           0.2222222222222222,
           "#3e4989"
          ],
          [
           0.3333333333333333,
           "#31688e"
          ],
          [
           0.4444444444444444,
           "#26828e"
          ],
          [
           0.5555555555555556,
           "#1f9e89"
          ],
          [
           0.6666666666666666,
           "#35b779"
          ],
          [
           0.7777777777777778,
           "#6ece58"
          ],
          [
           0.8888888888888888,
           "#b5de2b"
          ],
          [
           1,
           "#fde725"
          ]
         ]
        },
        "height": 500,
        "legend": {
         "tracegroupgap": 0
        },
        "margin": {
         "t": 60
        },
        "template": {
         "data": {
          "bar": [
           {
            "error_x": {
             "color": "#2a3f5f"
            },
            "error_y": {
             "color": "#2a3f5f"
            },
            "marker": {
             "line": {
              "color": "#E5ECF6",
              "width": 0.5
             },
             "pattern": {
              "fillmode": "overlay",
              "size": 10,
              "solidity": 0.2
             }
            },
            "type": "bar"
           }
          ],
          "barpolar": [
           {
            "marker": {
             "line": {
              "color": "#E5ECF6",
              "width": 0.5
             },
             "pattern": {
              "fillmode": "overlay",
              "size": 10,
              "solidity": 0.2
             }
            },
            "type": "barpolar"
           }
          ],
          "carpet": [
           {
            "aaxis": {
             "endlinecolor": "#2a3f5f",
             "gridcolor": "white",
             "linecolor": "white",
             "minorgridcolor": "white",
             "startlinecolor": "#2a3f5f"
            },
            "baxis": {
             "endlinecolor": "#2a3f5f",
             "gridcolor": "white",
             "linecolor": "white",
             "minorgridcolor": "white",
             "startlinecolor": "#2a3f5f"
            },
            "type": "carpet"
           }
          ],
          "choropleth": [
           {
            "colorbar": {
             "outlinewidth": 0,
             "ticks": ""
            },
            "type": "choropleth"
           }
          ],
          "contour": [
           {
            "colorbar": {
             "outlinewidth": 0,
             "ticks": ""
            },
            "colorscale": [
             [
              0,
              "#0d0887"
             ],
             [
              0.1111111111111111,
              "#46039f"
             ],
             [
              0.2222222222222222,
              "#7201a8"
             ],
             [
              0.3333333333333333,
              "#9c179e"
             ],
             [
              0.4444444444444444,
              "#bd3786"
             ],
             [
              0.5555555555555556,
              "#d8576b"
             ],
             [
              0.6666666666666666,
              "#ed7953"
             ],
             [
              0.7777777777777778,
              "#fb9f3a"
             ],
             [
              0.8888888888888888,
              "#fdca26"
             ],
             [
              1,
              "#f0f921"
             ]
            ],
            "type": "contour"
           }
          ],
          "contourcarpet": [
           {
            "colorbar": {
             "outlinewidth": 0,
             "ticks": ""
            },
            "type": "contourcarpet"
           }
          ],
          "heatmap": [
           {
            "colorbar": {
             "outlinewidth": 0,
             "ticks": ""
            },
            "colorscale": [
             [
              0,
              "#0d0887"
             ],
             [
              0.1111111111111111,
              "#46039f"
             ],
             [
              0.2222222222222222,
              "#7201a8"
             ],
             [
              0.3333333333333333,
              "#9c179e"
             ],
             [
              0.4444444444444444,
              "#bd3786"
             ],
             [
              0.5555555555555556,
              "#d8576b"
             ],
             [
              0.6666666666666666,
              "#ed7953"
             ],
             [
              0.7777777777777778,
              "#fb9f3a"
             ],
             [
              0.8888888888888888,
              "#fdca26"
             ],
             [
              1,
              "#f0f921"
             ]
            ],
            "type": "heatmap"
           }
          ],
          "heatmapgl": [
           {
            "colorbar": {
             "outlinewidth": 0,
             "ticks": ""
            },
            "colorscale": [
             [
              0,
              "#0d0887"
             ],
             [
              0.1111111111111111,
              "#46039f"
             ],
             [
              0.2222222222222222,
              "#7201a8"
             ],
             [
              0.3333333333333333,
              "#9c179e"
             ],
             [
              0.4444444444444444,
              "#bd3786"
             ],
             [
              0.5555555555555556,
              "#d8576b"
             ],
             [
              0.6666666666666666,
              "#ed7953"
             ],
             [
              0.7777777777777778,
              "#fb9f3a"
             ],
             [
              0.8888888888888888,
              "#fdca26"
             ],
             [
              1,
              "#f0f921"
             ]
            ],
            "type": "heatmapgl"
           }
          ],
          "histogram": [
           {
            "marker": {
             "pattern": {
              "fillmode": "overlay",
              "size": 10,
              "solidity": 0.2
             }
            },
            "type": "histogram"
           }
          ],
          "histogram2d": [
           {
            "colorbar": {
             "outlinewidth": 0,
             "ticks": ""
            },
            "colorscale": [
             [
              0,
              "#0d0887"
             ],
             [
              0.1111111111111111,
              "#46039f"
             ],
             [
              0.2222222222222222,
              "#7201a8"
             ],
             [
              0.3333333333333333,
              "#9c179e"
             ],
             [
              0.4444444444444444,
              "#bd3786"
             ],
             [
              0.5555555555555556,
              "#d8576b"
             ],
             [
              0.6666666666666666,
              "#ed7953"
             ],
             [
              0.7777777777777778,
              "#fb9f3a"
             ],
             [
              0.8888888888888888,
              "#fdca26"
             ],
             [
              1,
              "#f0f921"
             ]
            ],
            "type": "histogram2d"
           }
          ],
          "histogram2dcontour": [
           {
            "colorbar": {
             "outlinewidth": 0,
             "ticks": ""
            },
            "colorscale": [
             [
              0,
              "#0d0887"
             ],
             [
              0.1111111111111111,
              "#46039f"
             ],
             [
              0.2222222222222222,
              "#7201a8"
             ],
             [
              0.3333333333333333,
              "#9c179e"
             ],
             [
              0.4444444444444444,
              "#bd3786"
             ],
             [
              0.5555555555555556,
              "#d8576b"
             ],
             [
              0.6666666666666666,
              "#ed7953"
             ],
             [
              0.7777777777777778,
              "#fb9f3a"
             ],
             [
              0.8888888888888888,
              "#fdca26"
             ],
             [
              1,
              "#f0f921"
             ]
            ],
            "type": "histogram2dcontour"
           }
          ],
          "mesh3d": [
           {
            "colorbar": {
             "outlinewidth": 0,
             "ticks": ""
            },
            "type": "mesh3d"
           }
          ],
          "parcoords": [
           {
            "line": {
             "colorbar": {
              "outlinewidth": 0,
              "ticks": ""
             }
            },
            "type": "parcoords"
           }
          ],
          "pie": [
           {
            "automargin": true,
            "type": "pie"
           }
          ],
          "scatter": [
           {
            "fillpattern": {
             "fillmode": "overlay",
             "size": 10,
             "solidity": 0.2
            },
            "type": "scatter"
           }
          ],
          "scatter3d": [
           {
            "line": {
             "colorbar": {
              "outlinewidth": 0,
              "ticks": ""
             }
            },
            "marker": {
             "colorbar": {
              "outlinewidth": 0,
              "ticks": ""
             }
            },
            "type": "scatter3d"
           }
          ],
          "scattercarpet": [
           {
            "marker": {
             "colorbar": {
              "outlinewidth": 0,
              "ticks": ""
             }
            },
            "type": "scattercarpet"
           }
          ],
          "scattergeo": [
           {
            "marker": {
             "colorbar": {
              "outlinewidth": 0,
              "ticks": ""
             }
            },
            "type": "scattergeo"
           }
          ],
          "scattergl": [
           {
            "marker": {
             "colorbar": {
              "outlinewidth": 0,
              "ticks": ""
             }
            },
            "type": "scattergl"
           }
          ],
          "scattermapbox": [
           {
            "marker": {
             "colorbar": {
              "outlinewidth": 0,
              "ticks": ""
             }
            },
            "type": "scattermapbox"
           }
          ],
          "scatterpolar": [
           {
            "marker": {
             "colorbar": {
              "outlinewidth": 0,
              "ticks": ""
             }
            },
            "type": "scatterpolar"
           }
          ],
          "scatterpolargl": [
           {
            "marker": {
             "colorbar": {
              "outlinewidth": 0,
              "ticks": ""
             }
            },
            "type": "scatterpolargl"
           }
          ],
          "scatterternary": [
           {
            "marker": {
             "colorbar": {
              "outlinewidth": 0,
              "ticks": ""
             }
            },
            "type": "scatterternary"
           }
          ],
          "surface": [
           {
            "colorbar": {
             "outlinewidth": 0,
             "ticks": ""
            },
            "colorscale": [
             [
              0,
              "#0d0887"
             ],
             [
              0.1111111111111111,
              "#46039f"
             ],
             [
              0.2222222222222222,
              "#7201a8"
             ],
             [
              0.3333333333333333,
              "#9c179e"
             ],
             [
              0.4444444444444444,
              "#bd3786"
             ],
             [
              0.5555555555555556,
              "#d8576b"
             ],
             [
              0.6666666666666666,
              "#ed7953"
             ],
             [
              0.7777777777777778,
              "#fb9f3a"
             ],
             [
              0.8888888888888888,
              "#fdca26"
             ],
             [
              1,
              "#f0f921"
             ]
            ],
            "type": "surface"
           }
          ],
          "table": [
           {
            "cells": {
             "fill": {
              "color": "#EBF0F8"
             },
             "line": {
              "color": "white"
             }
            },
            "header": {
             "fill": {
              "color": "#C8D4E3"
             },
             "line": {
              "color": "white"
             }
            },
            "type": "table"
           }
          ]
         },
         "layout": {
          "annotationdefaults": {
           "arrowcolor": "#2a3f5f",
           "arrowhead": 0,
           "arrowwidth": 1
          },
          "autotypenumbers": "strict",
          "coloraxis": {
           "colorbar": {
            "outlinewidth": 0,
            "ticks": ""
           }
          },
          "colorscale": {
           "diverging": [
            [
             0,
             "#8e0152"
            ],
            [
             0.1,
             "#c51b7d"
            ],
            [
             0.2,
             "#de77ae"
            ],
            [
             0.3,
             "#f1b6da"
            ],
            [
             0.4,
             "#fde0ef"
            ],
            [
             0.5,
             "#f7f7f7"
            ],
            [
             0.6,
             "#e6f5d0"
            ],
            [
             0.7,
             "#b8e186"
            ],
            [
             0.8,
             "#7fbc41"
            ],
            [
             0.9,
             "#4d9221"
            ],
            [
             1,
             "#276419"
            ]
           ],
           "sequential": [
            [
             0,
             "#0d0887"
            ],
            [
             0.1111111111111111,
             "#46039f"
            ],
            [
             0.2222222222222222,
             "#7201a8"
            ],
            [
             0.3333333333333333,
             "#9c179e"
            ],
            [
             0.4444444444444444,
             "#bd3786"
            ],
            [
             0.5555555555555556,
             "#d8576b"
            ],
            [
             0.6666666666666666,
             "#ed7953"
            ],
            [
             0.7777777777777778,
             "#fb9f3a"
            ],
            [
             0.8888888888888888,
             "#fdca26"
            ],
            [
             1,
             "#f0f921"
            ]
           ],
           "sequentialminus": [
            [
             0,
             "#0d0887"
            ],
            [
             0.1111111111111111,
             "#46039f"
            ],
            [
             0.2222222222222222,
             "#7201a8"
            ],
            [
             0.3333333333333333,
             "#9c179e"
            ],
            [
             0.4444444444444444,
             "#bd3786"
            ],
            [
             0.5555555555555556,
             "#d8576b"
            ],
            [
             0.6666666666666666,
             "#ed7953"
            ],
            [
             0.7777777777777778,
             "#fb9f3a"
            ],
            [
             0.8888888888888888,
             "#fdca26"
            ],
            [
             1,
             "#f0f921"
            ]
           ]
          },
          "colorway": [
           "#636efa",
           "#EF553B",
           "#00cc96",
           "#ab63fa",
           "#FFA15A",
           "#19d3f3",
           "#FF6692",
           "#B6E880",
           "#FF97FF",
           "#FECB52"
          ],
          "font": {
           "color": "#2a3f5f"
          },
          "geo": {
           "bgcolor": "white",
           "lakecolor": "white",
           "landcolor": "#E5ECF6",
           "showlakes": true,
           "showland": true,
           "subunitcolor": "white"
          },
          "hoverlabel": {
           "align": "left"
          },
          "hovermode": "closest",
          "mapbox": {
           "style": "light"
          },
          "paper_bgcolor": "white",
          "plot_bgcolor": "#E5ECF6",
          "polar": {
           "angularaxis": {
            "gridcolor": "white",
            "linecolor": "white",
            "ticks": ""
           },
           "bgcolor": "#E5ECF6",
           "radialaxis": {
            "gridcolor": "white",
            "linecolor": "white",
            "ticks": ""
           }
          },
          "scene": {
           "xaxis": {
            "backgroundcolor": "#E5ECF6",
            "gridcolor": "white",
            "gridwidth": 2,
            "linecolor": "white",
            "showbackground": true,
            "ticks": "",
            "zerolinecolor": "white"
           },
           "yaxis": {
            "backgroundcolor": "#E5ECF6",
            "gridcolor": "white",
            "gridwidth": 2,
            "linecolor": "white",
            "showbackground": true,
            "ticks": "",
            "zerolinecolor": "white"
           },
           "zaxis": {
            "backgroundcolor": "#E5ECF6",
            "gridcolor": "white",
            "gridwidth": 2,
            "linecolor": "white",
            "showbackground": true,
            "ticks": "",
            "zerolinecolor": "white"
           }
          },
          "shapedefaults": {
           "line": {
            "color": "#2a3f5f"
           }
          },
          "ternary": {
           "aaxis": {
            "gridcolor": "white",
            "linecolor": "white",
            "ticks": ""
           },
           "baxis": {
            "gridcolor": "white",
            "linecolor": "white",
            "ticks": ""
           },
           "bgcolor": "#E5ECF6",
           "caxis": {
            "gridcolor": "white",
            "linecolor": "white",
            "ticks": ""
           }
          },
          "title": {
           "x": 0.05
          },
          "xaxis": {
           "automargin": true,
           "gridcolor": "white",
           "linecolor": "white",
           "ticks": "",
           "title": {
            "standoff": 15
           },
           "zerolinecolor": "white",
           "zerolinewidth": 2
          },
          "yaxis": {
           "automargin": true,
           "gridcolor": "white",
           "linecolor": "white",
           "ticks": "",
           "title": {
            "standoff": 15
           },
           "zerolinecolor": "white",
           "zerolinewidth": 2
          }
         }
        },
        "title": {
         "text": "Incidencia delictiva por estado"
        },
        "xaxis": {
         "anchor": "y",
         "categoryorder": "total descending",
         "domain": [
          0,
          1
         ],
         "title": {
          "text": "Recuento"
         }
        },
        "yaxis": {
         "anchor": "x",
         "domain": [
          0,
          1
         ],
         "title": {
          "text": "Entidades"
         }
        }
       }
      }
     },
     "metadata": {},
     "output_type": "display_data"
    }
   ],
   "source": [
    "#Recunto edo\n",
    "edo_recuento = df.groupby('Entidad')['Recuento'].sum().reset_index()\n",
    "fig1 = px.bar(edo_recuento, x='Entidad', y='Recuento', text='Recuento', text_auto='.2s',\n",
    "              color='Recuento', labels={'Recuento': 'Recuento por estados'},\n",
    "              color_continuous_scale='Viridis')  \n",
    "fig1.update_traces(marker_line_color='rgb(8,48,107)', marker_line_width=1.5,\n",
    "                    opacity=0.8, textposition='inside') \n",
    "fig1.update_layout(title_text='Incidencia delictiva por estado', yaxis_title='Entidades',\n",
    "                   xaxis_title='Recuento', height=500, xaxis={'categoryorder':'total descending'})\n",
    "fig1.update_traces(textfont_size=12, textangle=0, textposition=\"outside\", cliponaxis=False)\n",
    "#fig1.update_layout(barmode='stack', xaxis={'categoryorder':'total descending'})\n",
    "fig1.show()"
   ]
  },
  {
   "cell_type": "code",
   "execution_count": 19,
   "metadata": {},
   "outputs": [
    {
     "data": {
      "application/vnd.plotly.v1+json": {
       "config": {
        "plotlyServerURL": "https://plot.ly"
       },
       "data": [
        {
         "customdata": [
          [
           8377022
          ],
          [
           2120972
          ],
          [
           468180
          ],
          [
           75415
          ],
          [
           2211089
          ],
          [
           173470
          ],
          [
           3490231
          ]
         ],
         "domain": {
          "x": [
           0,
           1
          ],
          "y": [
           0,
           1
          ]
         },
         "hovertemplate": "Bien jurídico afectado=%{label}<br>Recuento=%{customdata[0]}<extra></extra>",
         "labels": [
          "El patrimonio",
          "La familia",
          "La libertad y la seguridad sexual",
          "La sociedad",
          "La vida y la Integridad corporal",
          "Libertad personal",
          "Otros bienes jurídicos afectados (del fuero común)"
         ],
         "legendgroup": "",
         "name": "",
         "showlegend": true,
         "textinfo": "percent+label",
         "textposition": "outside",
         "type": "pie",
         "values": [
          8377022,
          2120972,
          468180,
          75415,
          2211089,
          173470,
          3490231
         ]
        }
       ],
       "layout": {
        "height": 500,
        "legend": {
         "tracegroupgap": 0
        },
        "margin": {
         "t": 60
        },
        "template": {
         "data": {
          "bar": [
           {
            "error_x": {
             "color": "#2a3f5f"
            },
            "error_y": {
             "color": "#2a3f5f"
            },
            "marker": {
             "line": {
              "color": "#E5ECF6",
              "width": 0.5
             },
             "pattern": {
              "fillmode": "overlay",
              "size": 10,
              "solidity": 0.2
             }
            },
            "type": "bar"
           }
          ],
          "barpolar": [
           {
            "marker": {
             "line": {
              "color": "#E5ECF6",
              "width": 0.5
             },
             "pattern": {
              "fillmode": "overlay",
              "size": 10,
              "solidity": 0.2
             }
            },
            "type": "barpolar"
           }
          ],
          "carpet": [
           {
            "aaxis": {
             "endlinecolor": "#2a3f5f",
             "gridcolor": "white",
             "linecolor": "white",
             "minorgridcolor": "white",
             "startlinecolor": "#2a3f5f"
            },
            "baxis": {
             "endlinecolor": "#2a3f5f",
             "gridcolor": "white",
             "linecolor": "white",
             "minorgridcolor": "white",
             "startlinecolor": "#2a3f5f"
            },
            "type": "carpet"
           }
          ],
          "choropleth": [
           {
            "colorbar": {
             "outlinewidth": 0,
             "ticks": ""
            },
            "type": "choropleth"
           }
          ],
          "contour": [
           {
            "colorbar": {
             "outlinewidth": 0,
             "ticks": ""
            },
            "colorscale": [
             [
              0,
              "#0d0887"
             ],
             [
              0.1111111111111111,
              "#46039f"
             ],
             [
              0.2222222222222222,
              "#7201a8"
             ],
             [
              0.3333333333333333,
              "#9c179e"
             ],
             [
              0.4444444444444444,
              "#bd3786"
             ],
             [
              0.5555555555555556,
              "#d8576b"
             ],
             [
              0.6666666666666666,
              "#ed7953"
             ],
             [
              0.7777777777777778,
              "#fb9f3a"
             ],
             [
              0.8888888888888888,
              "#fdca26"
             ],
             [
              1,
              "#f0f921"
             ]
            ],
            "type": "contour"
           }
          ],
          "contourcarpet": [
           {
            "colorbar": {
             "outlinewidth": 0,
             "ticks": ""
            },
            "type": "contourcarpet"
           }
          ],
          "heatmap": [
           {
            "colorbar": {
             "outlinewidth": 0,
             "ticks": ""
            },
            "colorscale": [
             [
              0,
              "#0d0887"
             ],
             [
              0.1111111111111111,
              "#46039f"
             ],
             [
              0.2222222222222222,
              "#7201a8"
             ],
             [
              0.3333333333333333,
              "#9c179e"
             ],
             [
              0.4444444444444444,
              "#bd3786"
             ],
             [
              0.5555555555555556,
              "#d8576b"
             ],
             [
              0.6666666666666666,
              "#ed7953"
             ],
             [
              0.7777777777777778,
              "#fb9f3a"
             ],
             [
              0.8888888888888888,
              "#fdca26"
             ],
             [
              1,
              "#f0f921"
             ]
            ],
            "type": "heatmap"
           }
          ],
          "heatmapgl": [
           {
            "colorbar": {
             "outlinewidth": 0,
             "ticks": ""
            },
            "colorscale": [
             [
              0,
              "#0d0887"
             ],
             [
              0.1111111111111111,
              "#46039f"
             ],
             [
              0.2222222222222222,
              "#7201a8"
             ],
             [
              0.3333333333333333,
              "#9c179e"
             ],
             [
              0.4444444444444444,
              "#bd3786"
             ],
             [
              0.5555555555555556,
              "#d8576b"
             ],
             [
              0.6666666666666666,
              "#ed7953"
             ],
             [
              0.7777777777777778,
              "#fb9f3a"
             ],
             [
              0.8888888888888888,
              "#fdca26"
             ],
             [
              1,
              "#f0f921"
             ]
            ],
            "type": "heatmapgl"
           }
          ],
          "histogram": [
           {
            "marker": {
             "pattern": {
              "fillmode": "overlay",
              "size": 10,
              "solidity": 0.2
             }
            },
            "type": "histogram"
           }
          ],
          "histogram2d": [
           {
            "colorbar": {
             "outlinewidth": 0,
             "ticks": ""
            },
            "colorscale": [
             [
              0,
              "#0d0887"
             ],
             [
              0.1111111111111111,
              "#46039f"
             ],
             [
              0.2222222222222222,
              "#7201a8"
             ],
             [
              0.3333333333333333,
              "#9c179e"
             ],
             [
              0.4444444444444444,
              "#bd3786"
             ],
             [
              0.5555555555555556,
              "#d8576b"
             ],
             [
              0.6666666666666666,
              "#ed7953"
             ],
             [
              0.7777777777777778,
              "#fb9f3a"
             ],
             [
              0.8888888888888888,
              "#fdca26"
             ],
             [
              1,
              "#f0f921"
             ]
            ],
            "type": "histogram2d"
           }
          ],
          "histogram2dcontour": [
           {
            "colorbar": {
             "outlinewidth": 0,
             "ticks": ""
            },
            "colorscale": [
             [
              0,
              "#0d0887"
             ],
             [
              0.1111111111111111,
              "#46039f"
             ],
             [
              0.2222222222222222,
              "#7201a8"
             ],
             [
              0.3333333333333333,
              "#9c179e"
             ],
             [
              0.4444444444444444,
              "#bd3786"
             ],
             [
              0.5555555555555556,
              "#d8576b"
             ],
             [
              0.6666666666666666,
              "#ed7953"
             ],
             [
              0.7777777777777778,
              "#fb9f3a"
             ],
             [
              0.8888888888888888,
              "#fdca26"
             ],
             [
              1,
              "#f0f921"
             ]
            ],
            "type": "histogram2dcontour"
           }
          ],
          "mesh3d": [
           {
            "colorbar": {
             "outlinewidth": 0,
             "ticks": ""
            },
            "type": "mesh3d"
           }
          ],
          "parcoords": [
           {
            "line": {
             "colorbar": {
              "outlinewidth": 0,
              "ticks": ""
             }
            },
            "type": "parcoords"
           }
          ],
          "pie": [
           {
            "automargin": true,
            "type": "pie"
           }
          ],
          "scatter": [
           {
            "fillpattern": {
             "fillmode": "overlay",
             "size": 10,
             "solidity": 0.2
            },
            "type": "scatter"
           }
          ],
          "scatter3d": [
           {
            "line": {
             "colorbar": {
              "outlinewidth": 0,
              "ticks": ""
             }
            },
            "marker": {
             "colorbar": {
              "outlinewidth": 0,
              "ticks": ""
             }
            },
            "type": "scatter3d"
           }
          ],
          "scattercarpet": [
           {
            "marker": {
             "colorbar": {
              "outlinewidth": 0,
              "ticks": ""
             }
            },
            "type": "scattercarpet"
           }
          ],
          "scattergeo": [
           {
            "marker": {
             "colorbar": {
              "outlinewidth": 0,
              "ticks": ""
             }
            },
            "type": "scattergeo"
           }
          ],
          "scattergl": [
           {
            "marker": {
             "colorbar": {
              "outlinewidth": 0,
              "ticks": ""
             }
            },
            "type": "scattergl"
           }
          ],
          "scattermapbox": [
           {
            "marker": {
             "colorbar": {
              "outlinewidth": 0,
              "ticks": ""
             }
            },
            "type": "scattermapbox"
           }
          ],
          "scatterpolar": [
           {
            "marker": {
             "colorbar": {
              "outlinewidth": 0,
              "ticks": ""
             }
            },
            "type": "scatterpolar"
           }
          ],
          "scatterpolargl": [
           {
            "marker": {
             "colorbar": {
              "outlinewidth": 0,
              "ticks": ""
             }
            },
            "type": "scatterpolargl"
           }
          ],
          "scatterternary": [
           {
            "marker": {
             "colorbar": {
              "outlinewidth": 0,
              "ticks": ""
             }
            },
            "type": "scatterternary"
           }
          ],
          "surface": [
           {
            "colorbar": {
             "outlinewidth": 0,
             "ticks": ""
            },
            "colorscale": [
             [
              0,
              "#0d0887"
             ],
             [
              0.1111111111111111,
              "#46039f"
             ],
             [
              0.2222222222222222,
              "#7201a8"
             ],
             [
              0.3333333333333333,
              "#9c179e"
             ],
             [
              0.4444444444444444,
              "#bd3786"
             ],
             [
              0.5555555555555556,
              "#d8576b"
             ],
             [
              0.6666666666666666,
              "#ed7953"
             ],
             [
              0.7777777777777778,
              "#fb9f3a"
             ],
             [
              0.8888888888888888,
              "#fdca26"
             ],
             [
              1,
              "#f0f921"
             ]
            ],
            "type": "surface"
           }
          ],
          "table": [
           {
            "cells": {
             "fill": {
              "color": "#EBF0F8"
             },
             "line": {
              "color": "white"
             }
            },
            "header": {
             "fill": {
              "color": "#C8D4E3"
             },
             "line": {
              "color": "white"
             }
            },
            "type": "table"
           }
          ]
         },
         "layout": {
          "annotationdefaults": {
           "arrowcolor": "#2a3f5f",
           "arrowhead": 0,
           "arrowwidth": 1
          },
          "autotypenumbers": "strict",
          "coloraxis": {
           "colorbar": {
            "outlinewidth": 0,
            "ticks": ""
           }
          },
          "colorscale": {
           "diverging": [
            [
             0,
             "#8e0152"
            ],
            [
             0.1,
             "#c51b7d"
            ],
            [
             0.2,
             "#de77ae"
            ],
            [
             0.3,
             "#f1b6da"
            ],
            [
             0.4,
             "#fde0ef"
            ],
            [
             0.5,
             "#f7f7f7"
            ],
            [
             0.6,
             "#e6f5d0"
            ],
            [
             0.7,
             "#b8e186"
            ],
            [
             0.8,
             "#7fbc41"
            ],
            [
             0.9,
             "#4d9221"
            ],
            [
             1,
             "#276419"
            ]
           ],
           "sequential": [
            [
             0,
             "#0d0887"
            ],
            [
             0.1111111111111111,
             "#46039f"
            ],
            [
             0.2222222222222222,
             "#7201a8"
            ],
            [
             0.3333333333333333,
             "#9c179e"
            ],
            [
             0.4444444444444444,
             "#bd3786"
            ],
            [
             0.5555555555555556,
             "#d8576b"
            ],
            [
             0.6666666666666666,
             "#ed7953"
            ],
            [
             0.7777777777777778,
             "#fb9f3a"
            ],
            [
             0.8888888888888888,
             "#fdca26"
            ],
            [
             1,
             "#f0f921"
            ]
           ],
           "sequentialminus": [
            [
             0,
             "#0d0887"
            ],
            [
             0.1111111111111111,
             "#46039f"
            ],
            [
             0.2222222222222222,
             "#7201a8"
            ],
            [
             0.3333333333333333,
             "#9c179e"
            ],
            [
             0.4444444444444444,
             "#bd3786"
            ],
            [
             0.5555555555555556,
             "#d8576b"
            ],
            [
             0.6666666666666666,
             "#ed7953"
            ],
            [
             0.7777777777777778,
             "#fb9f3a"
            ],
            [
             0.8888888888888888,
             "#fdca26"
            ],
            [
             1,
             "#f0f921"
            ]
           ]
          },
          "colorway": [
           "#636efa",
           "#EF553B",
           "#00cc96",
           "#ab63fa",
           "#FFA15A",
           "#19d3f3",
           "#FF6692",
           "#B6E880",
           "#FF97FF",
           "#FECB52"
          ],
          "font": {
           "color": "#2a3f5f"
          },
          "geo": {
           "bgcolor": "white",
           "lakecolor": "white",
           "landcolor": "#E5ECF6",
           "showlakes": true,
           "showland": true,
           "subunitcolor": "white"
          },
          "hoverlabel": {
           "align": "left"
          },
          "hovermode": "closest",
          "mapbox": {
           "style": "light"
          },
          "paper_bgcolor": "white",
          "plot_bgcolor": "#E5ECF6",
          "polar": {
           "angularaxis": {
            "gridcolor": "white",
            "linecolor": "white",
            "ticks": ""
           },
           "bgcolor": "#E5ECF6",
           "radialaxis": {
            "gridcolor": "white",
            "linecolor": "white",
            "ticks": ""
           }
          },
          "scene": {
           "xaxis": {
            "backgroundcolor": "#E5ECF6",
            "gridcolor": "white",
            "gridwidth": 2,
            "linecolor": "white",
            "showbackground": true,
            "ticks": "",
            "zerolinecolor": "white"
           },
           "yaxis": {
            "backgroundcolor": "#E5ECF6",
            "gridcolor": "white",
            "gridwidth": 2,
            "linecolor": "white",
            "showbackground": true,
            "ticks": "",
            "zerolinecolor": "white"
           },
           "zaxis": {
            "backgroundcolor": "#E5ECF6",
            "gridcolor": "white",
            "gridwidth": 2,
            "linecolor": "white",
            "showbackground": true,
            "ticks": "",
            "zerolinecolor": "white"
           }
          },
          "shapedefaults": {
           "line": {
            "color": "#2a3f5f"
           }
          },
          "ternary": {
           "aaxis": {
            "gridcolor": "white",
            "linecolor": "white",
            "ticks": ""
           },
           "baxis": {
            "gridcolor": "white",
            "linecolor": "white",
            "ticks": ""
           },
           "bgcolor": "#E5ECF6",
           "caxis": {
            "gridcolor": "white",
            "linecolor": "white",
            "ticks": ""
           }
          },
          "title": {
           "x": 0.05
          },
          "xaxis": {
           "automargin": true,
           "gridcolor": "white",
           "linecolor": "white",
           "ticks": "",
           "title": {
            "standoff": 15
           },
           "zerolinecolor": "white",
           "zerolinewidth": 2
          },
          "yaxis": {
           "automargin": true,
           "gridcolor": "white",
           "linecolor": "white",
           "ticks": "",
           "title": {
            "standoff": 15
           },
           "zerolinecolor": "white",
           "zerolinewidth": 2
          }
         }
        },
        "title": {
         "text": "Bien Jurídico Afectado"
        },
        "xaxis": {
         "categoryorder": "total descending",
         "title": {
          "text": ""
         }
        },
        "yaxis": {
         "title": {
          "text": ""
         }
        }
       }
      }
     },
     "metadata": {},
     "output_type": "display_data"
    }
   ],
   "source": [
    "#Recuento bien juridico afectado\n",
    "\n",
    "bien_recuento = df.groupby('Bien jurídico afectado')['Recuento'].sum().reset_index()\n",
    "\n",
    "#df = px.data.gapminder().query(\"year == 2007\").query(\"continent == 'Americas'\")\n",
    "fig = px.pie(bien_recuento, values='Recuento', names='Bien jurídico afectado',\n",
    "             title='',\n",
    "             hover_data=['Recuento'])\n",
    "fig.update_traces(textposition='outside', textinfo='percent+label')\n",
    "fig.update_layout(title_text='Bien Jurídico Afectado', yaxis_title='',\n",
    "                   xaxis_title='', height=500, xaxis={'categoryorder':'total descending'})\n",
    "fig.show()\n",
    "\n",
    "\n"
   ]
  },
  {
   "cell_type": "code",
   "execution_count": 12,
   "metadata": {},
   "outputs": [
    {
     "data": {
      "text/html": [
       "<div>\n",
       "<style scoped>\n",
       "    .dataframe tbody tr th:only-of-type {\n",
       "        vertical-align: middle;\n",
       "    }\n",
       "\n",
       "    .dataframe tbody tr th {\n",
       "        vertical-align: top;\n",
       "    }\n",
       "\n",
       "    .dataframe thead th {\n",
       "        text-align: right;\n",
       "    }\n",
       "</style>\n",
       "<table border=\"1\" class=\"dataframe\">\n",
       "  <thead>\n",
       "    <tr style=\"text-align: right;\">\n",
       "      <th></th>\n",
       "      <th>Año</th>\n",
       "      <th>Entidad</th>\n",
       "      <th>Bien jurídico afectado</th>\n",
       "      <th>Tipo de delito</th>\n",
       "      <th>Subtipo de delito</th>\n",
       "      <th>Modalidad</th>\n",
       "      <th>Recuento</th>\n",
       "    </tr>\n",
       "  </thead>\n",
       "  <tbody>\n",
       "    <tr>\n",
       "      <th>28219</th>\n",
       "      <td>2023</td>\n",
       "      <td>Zacatecas</td>\n",
       "      <td>Otros bienes jurídicos afectados (del fuero co...</td>\n",
       "      <td>Falsificación</td>\n",
       "      <td>Falsificación</td>\n",
       "      <td>Falsificación</td>\n",
       "      <td>69</td>\n",
       "    </tr>\n",
       "    <tr>\n",
       "      <th>28220</th>\n",
       "      <td>2023</td>\n",
       "      <td>Zacatecas</td>\n",
       "      <td>Otros bienes jurídicos afectados (del fuero co...</td>\n",
       "      <td>Contra el medio ambiente</td>\n",
       "      <td>Contra el medio ambiente</td>\n",
       "      <td>Contra el medio ambiente</td>\n",
       "      <td>4</td>\n",
       "    </tr>\n",
       "    <tr>\n",
       "      <th>28221</th>\n",
       "      <td>2023</td>\n",
       "      <td>Zacatecas</td>\n",
       "      <td>Otros bienes jurídicos afectados (del fuero co...</td>\n",
       "      <td>Delitos cometidos por servidores públicos</td>\n",
       "      <td>Delitos cometidos por servidores públicos</td>\n",
       "      <td>Delitos cometidos por servidores públicos</td>\n",
       "      <td>181</td>\n",
       "    </tr>\n",
       "    <tr>\n",
       "      <th>28222</th>\n",
       "      <td>2023</td>\n",
       "      <td>Zacatecas</td>\n",
       "      <td>Otros bienes jurídicos afectados (del fuero co...</td>\n",
       "      <td>Electorales</td>\n",
       "      <td>Electorales</td>\n",
       "      <td>Electorales</td>\n",
       "      <td>5</td>\n",
       "    </tr>\n",
       "    <tr>\n",
       "      <th>28223</th>\n",
       "      <td>2023</td>\n",
       "      <td>Zacatecas</td>\n",
       "      <td>Otros bienes jurídicos afectados (del fuero co...</td>\n",
       "      <td>Otros delitos del Fuero Común</td>\n",
       "      <td>Otros delitos del Fuero Común</td>\n",
       "      <td>Otros delitos del Fuero Común</td>\n",
       "      <td>1423</td>\n",
       "    </tr>\n",
       "  </tbody>\n",
       "</table>\n",
       "</div>"
      ],
      "text/plain": [
       "        Año    Entidad                             Bien jurídico afectado  \\\n",
       "28219  2023  Zacatecas  Otros bienes jurídicos afectados (del fuero co...   \n",
       "28220  2023  Zacatecas  Otros bienes jurídicos afectados (del fuero co...   \n",
       "28221  2023  Zacatecas  Otros bienes jurídicos afectados (del fuero co...   \n",
       "28222  2023  Zacatecas  Otros bienes jurídicos afectados (del fuero co...   \n",
       "28223  2023  Zacatecas  Otros bienes jurídicos afectados (del fuero co...   \n",
       "\n",
       "                                  Tipo de delito  \\\n",
       "28219                              Falsificación   \n",
       "28220                   Contra el medio ambiente   \n",
       "28221  Delitos cometidos por servidores públicos   \n",
       "28222                                Electorales   \n",
       "28223              Otros delitos del Fuero Común   \n",
       "\n",
       "                               Subtipo de delito  \\\n",
       "28219                              Falsificación   \n",
       "28220                   Contra el medio ambiente   \n",
       "28221  Delitos cometidos por servidores públicos   \n",
       "28222                                Electorales   \n",
       "28223              Otros delitos del Fuero Común   \n",
       "\n",
       "                                       Modalidad  Recuento  \n",
       "28219                              Falsificación        69  \n",
       "28220                   Contra el medio ambiente         4  \n",
       "28221  Delitos cometidos por servidores públicos       181  \n",
       "28222                                Electorales         5  \n",
       "28223              Otros delitos del Fuero Común      1423  "
      ]
     },
     "execution_count": 12,
     "metadata": {},
     "output_type": "execute_result"
    }
   ],
   "source": [
    "df_1 = df[[\"Año\",\"Entidad\",\"Bien jurídico afectado\",\"Tipo de delito\",\"Subtipo de delito\",\"Modalidad\",\"Recuento\"]]\n",
    "df_1 = pd.DataFrame(df_1)\n",
    "df_1.tail()"
   ]
  },
  {
   "cell_type": "code",
   "execution_count": 17,
   "metadata": {},
   "outputs": [
    {
     "data": {
      "application/vnd.plotly.v1+json": {
       "config": {
        "plotlyServerURL": "https://plot.ly"
       },
       "data": [
        {
         "branchvalues": "total",
         "domain": {
          "x": [
           0,
           1
          ],
          "y": [
           0,
           1
          ]
         },
         "hovertemplate": "labels=%{label}<br>Recuento=%{value}<br>parent=%{parent}<br>id=%{id}<extra></extra>",
         "ids": [
          "La vida y la Integridad corporal/Aborto/Aborto/Aborto",
          "El patrimonio/Abuso de confianza/Abuso de confianza/Abuso de confianza",
          "La libertad y la seguridad sexual/Abuso sexual/Abuso sexual/Abuso sexual",
          "La libertad y la seguridad sexual/Acoso sexual/Acoso sexual/Acoso sexual",
          "Otros bienes jurídicos afectados (del fuero común)/Allanamiento de morada/Allanamiento de morada/Allanamiento de morada",
          "Otros bienes jurídicos afectados (del fuero común)/Amenazas/Amenazas/Amenazas",
          "La vida y la Integridad corporal/Feminicidio/Feminicidio/Con arma blanca",
          "La vida y la Integridad corporal/Homicidio/Homicidio culposo/Con arma blanca",
          "La vida y la Integridad corporal/Homicidio/Homicidio doloso/Con arma blanca",
          "La vida y la Integridad corporal/Lesiones/Lesiones culposas/Con arma blanca",
          "La vida y la Integridad corporal/Lesiones/Lesiones dolosas/Con arma blanca",
          "La vida y la Integridad corporal/Feminicidio/Feminicidio/Con arma de fuego",
          "La vida y la Integridad corporal/Homicidio/Homicidio culposo/Con arma de fuego",
          "La vida y la Integridad corporal/Homicidio/Homicidio doloso/Con arma de fuego",
          "La vida y la Integridad corporal/Lesiones/Lesiones culposas/Con arma de fuego",
          "La vida y la Integridad corporal/Lesiones/Lesiones dolosas/Con arma de fuego",
          "La vida y la Integridad corporal/Feminicidio/Feminicidio/Con otro elemento",
          "La vida y la Integridad corporal/Homicidio/Homicidio culposo/Con otro elemento",
          "La vida y la Integridad corporal/Homicidio/Homicidio doloso/Con otro elemento",
          "La vida y la Integridad corporal/Lesiones/Lesiones culposas/Con otro elemento",
          "La vida y la Integridad corporal/Lesiones/Lesiones dolosas/Con otro elemento",
          "El patrimonio/Robo/Otros robos/Con violencia",
          "El patrimonio/Robo/Robo a casa habitación/Con violencia",
          "El patrimonio/Robo/Robo a institución bancaria/Con violencia",
          "El patrimonio/Robo/Robo a negocio/Con violencia",
          "El patrimonio/Robo/Robo a transeúnte en espacio abierto al público/Con violencia",
          "El patrimonio/Robo/Robo a transeúnte en vía pública/Con violencia",
          "El patrimonio/Robo/Robo a transportista/Con violencia",
          "El patrimonio/Robo/Robo de autopartes/Con violencia",
          "El patrimonio/Robo/Robo de ganado/Con violencia",
          "El patrimonio/Robo/Robo en transporte individual/Con violencia",
          "El patrimonio/Robo/Robo en transporte público colectivo/Con violencia",
          "El patrimonio/Robo/Robo en transporte público individual/Con violencia",
          "Otros bienes jurídicos afectados (del fuero común)/Contra el medio ambiente/Contra el medio ambiente/Contra el medio ambiente",
          "La sociedad/Corrupción de menores/Corrupción de menores/Corrupción de menores",
          "El patrimonio/Daño a la propiedad/Daño a la propiedad/Daño a la propiedad",
          "Otros bienes jurídicos afectados (del fuero común)/Delitos cometidos por servidores públicos/Delitos cometidos por servidores públicos/Delitos cometidos por servidores públicos",
          "El patrimonio/Despojo/Despojo/Despojo",
          "Otros bienes jurídicos afectados (del fuero común)/Electorales/Electorales/Electorales",
          "La vida y la Integridad corporal/Homicidio/Homicidio culposo/En accidente de tránsito",
          "La vida y la Integridad corporal/Lesiones/Lesiones culposas/En accidente de tránsito",
          "Otros bienes jurídicos afectados (del fuero común)/Evasión de presos/Evasión de presos/Evasión de presos",
          "El patrimonio/Extorsión/Extorsión/Extorsión",
          "Otros bienes jurídicos afectados (del fuero común)/Falsedad/Falsedad/Falsedad",
          "Otros bienes jurídicos afectados (del fuero común)/Falsificación/Falsificación/Falsificación",
          "El patrimonio/Fraude/Fraude/Fraude",
          "La libertad y la seguridad sexual/Hostigamiento sexual/Hostigamiento sexual/Hostigamiento sexual",
          "La libertad y la seguridad sexual/Incesto/Incesto/Incesto",
          "La familia/Incumplimiento de obligaciones de asistencia familiar/Incumplimiento de obligaciones de asistencia familiar/Incumplimiento de obligaciones de asistencia familiar",
          "Otros bienes jurídicos afectados (del fuero común)/Narcomenudeo/Narcomenudeo/Narcomenudeo",
          "La vida y la Integridad corporal/Feminicidio/Feminicidio/No especificado",
          "La vida y la Integridad corporal/Homicidio/Homicidio culposo/No especificado",
          "La vida y la Integridad corporal/Homicidio/Homicidio doloso/No especificado",
          "La vida y la Integridad corporal/Lesiones/Lesiones culposas/No especificado",
          "La vida y la Integridad corporal/Lesiones/Lesiones dolosas/No especificado",
          "Libertad personal/Secuestro/Secuestro/Otro tipo de secuestros",
          "El patrimonio/Otros delitos contra el patrimonio/Otros delitos contra el patrimonio/Otros delitos contra el patrimonio",
          "La familia/Otros delitos contra la familia/Otros delitos contra la familia/Otros delitos contra la familia",
          "La sociedad/Otros delitos contra la sociedad/Otros delitos contra la sociedad/Otros delitos contra la sociedad",
          "Otros bienes jurídicos afectados (del fuero común)/Otros delitos del Fuero Común/Otros delitos del Fuero Común/Otros delitos del Fuero Común",
          "Libertad personal/Otros delitos que atentan contra la libertad personal/Otros delitos que atentan contra la libertad personal/Otros delitos que atentan contra la libertad personal",
          "La libertad y la seguridad sexual/Otros delitos que atentan contra la libertad y la seguridad sexual/Otros delitos que atentan contra la libertad y la seguridad sexual/Otros delitos que atentan contra la libertad y la seguridad sexual",
          "La vida y la Integridad corporal/Otros delitos que atentan contra la vida y la integridad corporal/Otros delitos que atentan contra la vida y la integridad corporal/Otros delitos que atentan contra la vida y la integridad corporal",
          "Libertad personal/Rapto/Rapto/Rapto",
          "El patrimonio/Robo/Robo de maquinaria/Robo de cables, tubos y otros objetos destinados a servicios públicos Con violencia",
          "El patrimonio/Robo/Robo de maquinaria/Robo de cables, tubos y otros objetos destinados a servicios públicos Sin violencia",
          "El patrimonio/Robo/Robo de vehículo automotor/Robo de coche de 4 ruedas Con violencia",
          "El patrimonio/Robo/Robo de vehículo automotor/Robo de coche de 4 ruedas Sin violencia",
          "El patrimonio/Robo/Robo de vehículo automotor/Robo de embarcaciones pequeñas y grandes Con violencia",
          "El patrimonio/Robo/Robo de vehículo automotor/Robo de embarcaciones pequeñas y grandes Sin violencia",
          "El patrimonio/Robo/Robo de maquinaria/Robo de herramienta industrial o agrícola Con violencia",
          "El patrimonio/Robo/Robo de maquinaria/Robo de herramienta industrial o agrícola Sin violencia",
          "El patrimonio/Robo/Robo de vehículo automotor/Robo de motocicleta Con violencia",
          "El patrimonio/Robo/Robo de vehículo automotor/Robo de motocicleta Sin violencia",
          "El patrimonio/Robo/Robo de maquinaria/Robo de tractores Con violencia",
          "El patrimonio/Robo/Robo de maquinaria/Robo de tractores Sin violencia",
          "Libertad personal/Secuestro/Secuestro/Secuestro con calidad de rehén",
          "Libertad personal/Secuestro/Secuestro/Secuestro exprés",
          "Libertad personal/Secuestro/Secuestro/Secuestro extorsivo",
          "Libertad personal/Secuestro/Secuestro/Secuestro para causar daño",
          "El patrimonio/Robo/Otros robos/Sin violencia",
          "El patrimonio/Robo/Robo a casa habitación/Sin violencia",
          "El patrimonio/Robo/Robo a institución bancaria/Sin violencia",
          "El patrimonio/Robo/Robo a negocio/Sin violencia",
          "El patrimonio/Robo/Robo a transeúnte en espacio abierto al público/Sin violencia",
          "El patrimonio/Robo/Robo a transeúnte en vía pública/Sin violencia",
          "El patrimonio/Robo/Robo a transportista/Sin violencia",
          "El patrimonio/Robo/Robo de autopartes/Sin violencia",
          "El patrimonio/Robo/Robo de ganado/Sin violencia",
          "El patrimonio/Robo/Robo en transporte individual/Sin violencia",
          "El patrimonio/Robo/Robo en transporte público colectivo/Sin violencia",
          "El patrimonio/Robo/Robo en transporte público individual/Sin violencia",
          "La sociedad/Trata de personas/Trata de personas/Trata de personas",
          "Libertad personal/Tráfico de menores/Tráfico de menores/Tráfico de menores",
          "La libertad y la seguridad sexual/Violación equiparada/Violación equiparada/Violación equiparada",
          "La libertad y la seguridad sexual/Violación simple/Violación simple/Violación simple",
          "La familia/Violencia de género en todas sus modalidades distinta a la violencia familiar/Violencia de género en todas sus modalidades distinta a la violencia familiar/Violencia de género en todas sus modalidades distinta a la violencia familiar",
          "La familia/Violencia familiar/Violencia familiar/Violencia familiar",
          "La vida y la Integridad corporal/Aborto/Aborto",
          "El patrimonio/Abuso de confianza/Abuso de confianza",
          "La libertad y la seguridad sexual/Abuso sexual/Abuso sexual",
          "La libertad y la seguridad sexual/Acoso sexual/Acoso sexual",
          "Otros bienes jurídicos afectados (del fuero común)/Allanamiento de morada/Allanamiento de morada",
          "Otros bienes jurídicos afectados (del fuero común)/Amenazas/Amenazas",
          "Otros bienes jurídicos afectados (del fuero común)/Contra el medio ambiente/Contra el medio ambiente",
          "La sociedad/Corrupción de menores/Corrupción de menores",
          "El patrimonio/Daño a la propiedad/Daño a la propiedad",
          "Otros bienes jurídicos afectados (del fuero común)/Delitos cometidos por servidores públicos/Delitos cometidos por servidores públicos",
          "El patrimonio/Despojo/Despojo",
          "Otros bienes jurídicos afectados (del fuero común)/Electorales/Electorales",
          "Otros bienes jurídicos afectados (del fuero común)/Evasión de presos/Evasión de presos",
          "El patrimonio/Extorsión/Extorsión",
          "Otros bienes jurídicos afectados (del fuero común)/Falsedad/Falsedad",
          "Otros bienes jurídicos afectados (del fuero común)/Falsificación/Falsificación",
          "La vida y la Integridad corporal/Feminicidio/Feminicidio",
          "El patrimonio/Fraude/Fraude",
          "La vida y la Integridad corporal/Homicidio/Homicidio culposo",
          "La vida y la Integridad corporal/Homicidio/Homicidio doloso",
          "La libertad y la seguridad sexual/Hostigamiento sexual/Hostigamiento sexual",
          "La libertad y la seguridad sexual/Incesto/Incesto",
          "La familia/Incumplimiento de obligaciones de asistencia familiar/Incumplimiento de obligaciones de asistencia familiar",
          "La vida y la Integridad corporal/Lesiones/Lesiones culposas",
          "La vida y la Integridad corporal/Lesiones/Lesiones dolosas",
          "Otros bienes jurídicos afectados (del fuero común)/Narcomenudeo/Narcomenudeo",
          "El patrimonio/Otros delitos contra el patrimonio/Otros delitos contra el patrimonio",
          "La familia/Otros delitos contra la familia/Otros delitos contra la familia",
          "La sociedad/Otros delitos contra la sociedad/Otros delitos contra la sociedad",
          "Otros bienes jurídicos afectados (del fuero común)/Otros delitos del Fuero Común/Otros delitos del Fuero Común",
          "Libertad personal/Otros delitos que atentan contra la libertad personal/Otros delitos que atentan contra la libertad personal",
          "La libertad y la seguridad sexual/Otros delitos que atentan contra la libertad y la seguridad sexual/Otros delitos que atentan contra la libertad y la seguridad sexual",
          "La vida y la Integridad corporal/Otros delitos que atentan contra la vida y la integridad corporal/Otros delitos que atentan contra la vida y la integridad corporal",
          "El patrimonio/Robo/Otros robos",
          "Libertad personal/Rapto/Rapto",
          "El patrimonio/Robo/Robo a casa habitación",
          "El patrimonio/Robo/Robo a institución bancaria",
          "El patrimonio/Robo/Robo a negocio",
          "El patrimonio/Robo/Robo a transeúnte en espacio abierto al público",
          "El patrimonio/Robo/Robo a transeúnte en vía pública",
          "El patrimonio/Robo/Robo a transportista",
          "El patrimonio/Robo/Robo de autopartes",
          "El patrimonio/Robo/Robo de ganado",
          "El patrimonio/Robo/Robo de maquinaria",
          "El patrimonio/Robo/Robo de vehículo automotor",
          "El patrimonio/Robo/Robo en transporte individual",
          "El patrimonio/Robo/Robo en transporte público colectivo",
          "El patrimonio/Robo/Robo en transporte público individual",
          "Libertad personal/Secuestro/Secuestro",
          "La sociedad/Trata de personas/Trata de personas",
          "Libertad personal/Tráfico de menores/Tráfico de menores",
          "La libertad y la seguridad sexual/Violación equiparada/Violación equiparada",
          "La libertad y la seguridad sexual/Violación simple/Violación simple",
          "La familia/Violencia de género en todas sus modalidades distinta a la violencia familiar/Violencia de género en todas sus modalidades distinta a la violencia familiar",
          "La familia/Violencia familiar/Violencia familiar",
          "La vida y la Integridad corporal/Aborto",
          "El patrimonio/Abuso de confianza",
          "La libertad y la seguridad sexual/Abuso sexual",
          "La libertad y la seguridad sexual/Acoso sexual",
          "Otros bienes jurídicos afectados (del fuero común)/Allanamiento de morada",
          "Otros bienes jurídicos afectados (del fuero común)/Amenazas",
          "Otros bienes jurídicos afectados (del fuero común)/Contra el medio ambiente",
          "La sociedad/Corrupción de menores",
          "El patrimonio/Daño a la propiedad",
          "Otros bienes jurídicos afectados (del fuero común)/Delitos cometidos por servidores públicos",
          "El patrimonio/Despojo",
          "Otros bienes jurídicos afectados (del fuero común)/Electorales",
          "Otros bienes jurídicos afectados (del fuero común)/Evasión de presos",
          "El patrimonio/Extorsión",
          "Otros bienes jurídicos afectados (del fuero común)/Falsedad",
          "Otros bienes jurídicos afectados (del fuero común)/Falsificación",
          "La vida y la Integridad corporal/Feminicidio",
          "El patrimonio/Fraude",
          "La vida y la Integridad corporal/Homicidio",
          "La libertad y la seguridad sexual/Hostigamiento sexual",
          "La libertad y la seguridad sexual/Incesto",
          "La familia/Incumplimiento de obligaciones de asistencia familiar",
          "La vida y la Integridad corporal/Lesiones",
          "Otros bienes jurídicos afectados (del fuero común)/Narcomenudeo",
          "El patrimonio/Otros delitos contra el patrimonio",
          "La familia/Otros delitos contra la familia",
          "La sociedad/Otros delitos contra la sociedad",
          "Otros bienes jurídicos afectados (del fuero común)/Otros delitos del Fuero Común",
          "Libertad personal/Otros delitos que atentan contra la libertad personal",
          "La libertad y la seguridad sexual/Otros delitos que atentan contra la libertad y la seguridad sexual",
          "La vida y la Integridad corporal/Otros delitos que atentan contra la vida y la integridad corporal",
          "Libertad personal/Rapto",
          "El patrimonio/Robo",
          "Libertad personal/Secuestro",
          "La sociedad/Trata de personas",
          "Libertad personal/Tráfico de menores",
          "La libertad y la seguridad sexual/Violación equiparada",
          "La libertad y la seguridad sexual/Violación simple",
          "La familia/Violencia de género en todas sus modalidades distinta a la violencia familiar",
          "La familia/Violencia familiar",
          "El patrimonio",
          "La familia",
          "La libertad y la seguridad sexual",
          "La sociedad",
          "La vida y la Integridad corporal",
          "Libertad personal",
          "Otros bienes jurídicos afectados (del fuero común)"
         ],
         "labels": [
          "Aborto",
          "Abuso de confianza",
          "Abuso sexual",
          "Acoso sexual",
          "Allanamiento de morada",
          "Amenazas",
          "Con arma blanca",
          "Con arma blanca",
          "Con arma blanca",
          "Con arma blanca",
          "Con arma blanca",
          "Con arma de fuego",
          "Con arma de fuego",
          "Con arma de fuego",
          "Con arma de fuego",
          "Con arma de fuego",
          "Con otro elemento",
          "Con otro elemento",
          "Con otro elemento",
          "Con otro elemento",
          "Con otro elemento",
          "Con violencia",
          "Con violencia",
          "Con violencia",
          "Con violencia",
          "Con violencia",
          "Con violencia",
          "Con violencia",
          "Con violencia",
          "Con violencia",
          "Con violencia",
          "Con violencia",
          "Con violencia",
          "Contra el medio ambiente",
          "Corrupción de menores",
          "Daño a la propiedad",
          "Delitos cometidos por servidores públicos",
          "Despojo",
          "Electorales",
          "En accidente de tránsito",
          "En accidente de tránsito",
          "Evasión de presos",
          "Extorsión",
          "Falsedad",
          "Falsificación",
          "Fraude",
          "Hostigamiento sexual",
          "Incesto",
          "Incumplimiento de obligaciones de asistencia familiar",
          "Narcomenudeo",
          "No especificado",
          "No especificado",
          "No especificado",
          "No especificado",
          "No especificado",
          "Otro tipo de secuestros",
          "Otros delitos contra el patrimonio",
          "Otros delitos contra la familia",
          "Otros delitos contra la sociedad",
          "Otros delitos del Fuero Común",
          "Otros delitos que atentan contra la libertad personal",
          "Otros delitos que atentan contra la libertad y la seguridad sexual",
          "Otros delitos que atentan contra la vida y la integridad corporal",
          "Rapto",
          "Robo de cables, tubos y otros objetos destinados a servicios públicos Con violencia",
          "Robo de cables, tubos y otros objetos destinados a servicios públicos Sin violencia",
          "Robo de coche de 4 ruedas Con violencia",
          "Robo de coche de 4 ruedas Sin violencia",
          "Robo de embarcaciones pequeñas y grandes Con violencia",
          "Robo de embarcaciones pequeñas y grandes Sin violencia",
          "Robo de herramienta industrial o agrícola Con violencia",
          "Robo de herramienta industrial o agrícola Sin violencia",
          "Robo de motocicleta Con violencia",
          "Robo de motocicleta Sin violencia",
          "Robo de tractores Con violencia",
          "Robo de tractores Sin violencia",
          "Secuestro con calidad de rehén",
          "Secuestro exprés",
          "Secuestro extorsivo",
          "Secuestro para causar daño",
          "Sin violencia",
          "Sin violencia",
          "Sin violencia",
          "Sin violencia",
          "Sin violencia",
          "Sin violencia",
          "Sin violencia",
          "Sin violencia",
          "Sin violencia",
          "Sin violencia",
          "Sin violencia",
          "Sin violencia",
          "Trata de personas",
          "Tráfico de menores",
          "Violación equiparada",
          "Violación simple",
          "Violencia de género en todas sus modalidades distinta a la violencia familiar",
          "Violencia familiar",
          "Aborto",
          "Abuso de confianza",
          "Abuso sexual",
          "Acoso sexual",
          "Allanamiento de morada",
          "Amenazas",
          "Contra el medio ambiente",
          "Corrupción de menores",
          "Daño a la propiedad",
          "Delitos cometidos por servidores públicos",
          "Despojo",
          "Electorales",
          "Evasión de presos",
          "Extorsión",
          "Falsedad",
          "Falsificación",
          "Feminicidio",
          "Fraude",
          "Homicidio culposo",
          "Homicidio doloso",
          "Hostigamiento sexual",
          "Incesto",
          "Incumplimiento de obligaciones de asistencia familiar",
          "Lesiones culposas",
          "Lesiones dolosas",
          "Narcomenudeo",
          "Otros delitos contra el patrimonio",
          "Otros delitos contra la familia",
          "Otros delitos contra la sociedad",
          "Otros delitos del Fuero Común",
          "Otros delitos que atentan contra la libertad personal",
          "Otros delitos que atentan contra la libertad y la seguridad sexual",
          "Otros delitos que atentan contra la vida y la integridad corporal",
          "Otros robos",
          "Rapto",
          "Robo a casa habitación",
          "Robo a institución bancaria",
          "Robo a negocio",
          "Robo a transeúnte en espacio abierto al público",
          "Robo a transeúnte en vía pública",
          "Robo a transportista",
          "Robo de autopartes",
          "Robo de ganado",
          "Robo de maquinaria",
          "Robo de vehículo automotor",
          "Robo en transporte individual",
          "Robo en transporte público colectivo",
          "Robo en transporte público individual",
          "Secuestro",
          "Trata de personas",
          "Tráfico de menores",
          "Violación equiparada",
          "Violación simple",
          "Violencia de género en todas sus modalidades distinta a la violencia familiar",
          "Violencia familiar",
          "Aborto",
          "Abuso de confianza",
          "Abuso sexual",
          "Acoso sexual",
          "Allanamiento de morada",
          "Amenazas",
          "Contra el medio ambiente",
          "Corrupción de menores",
          "Daño a la propiedad",
          "Delitos cometidos por servidores públicos",
          "Despojo",
          "Electorales",
          "Evasión de presos",
          "Extorsión",
          "Falsedad",
          "Falsificación",
          "Feminicidio",
          "Fraude",
          "Homicidio",
          "Hostigamiento sexual",
          "Incesto",
          "Incumplimiento de obligaciones de asistencia familiar",
          "Lesiones",
          "Narcomenudeo",
          "Otros delitos contra el patrimonio",
          "Otros delitos contra la familia",
          "Otros delitos contra la sociedad",
          "Otros delitos del Fuero Común",
          "Otros delitos que atentan contra la libertad personal",
          "Otros delitos que atentan contra la libertad y la seguridad sexual",
          "Otros delitos que atentan contra la vida y la integridad corporal",
          "Rapto",
          "Robo",
          "Secuestro",
          "Trata de personas",
          "Tráfico de menores",
          "Violación equiparada",
          "Violación simple",
          "Violencia de género en todas sus modalidades distinta a la violencia familiar",
          "Violencia familiar",
          "El patrimonio",
          "La familia",
          "La libertad y la seguridad sexual",
          "La sociedad",
          "La vida y la Integridad corporal",
          "Libertad personal",
          "Otros bienes jurídicos afectados (del fuero común)"
         ],
         "name": "",
         "parents": [
          "La vida y la Integridad corporal/Aborto/Aborto",
          "El patrimonio/Abuso de confianza/Abuso de confianza",
          "La libertad y la seguridad sexual/Abuso sexual/Abuso sexual",
          "La libertad y la seguridad sexual/Acoso sexual/Acoso sexual",
          "Otros bienes jurídicos afectados (del fuero común)/Allanamiento de morada/Allanamiento de morada",
          "Otros bienes jurídicos afectados (del fuero común)/Amenazas/Amenazas",
          "La vida y la Integridad corporal/Feminicidio/Feminicidio",
          "La vida y la Integridad corporal/Homicidio/Homicidio culposo",
          "La vida y la Integridad corporal/Homicidio/Homicidio doloso",
          "La vida y la Integridad corporal/Lesiones/Lesiones culposas",
          "La vida y la Integridad corporal/Lesiones/Lesiones dolosas",
          "La vida y la Integridad corporal/Feminicidio/Feminicidio",
          "La vida y la Integridad corporal/Homicidio/Homicidio culposo",
          "La vida y la Integridad corporal/Homicidio/Homicidio doloso",
          "La vida y la Integridad corporal/Lesiones/Lesiones culposas",
          "La vida y la Integridad corporal/Lesiones/Lesiones dolosas",
          "La vida y la Integridad corporal/Feminicidio/Feminicidio",
          "La vida y la Integridad corporal/Homicidio/Homicidio culposo",
          "La vida y la Integridad corporal/Homicidio/Homicidio doloso",
          "La vida y la Integridad corporal/Lesiones/Lesiones culposas",
          "La vida y la Integridad corporal/Lesiones/Lesiones dolosas",
          "El patrimonio/Robo/Otros robos",
          "El patrimonio/Robo/Robo a casa habitación",
          "El patrimonio/Robo/Robo a institución bancaria",
          "El patrimonio/Robo/Robo a negocio",
          "El patrimonio/Robo/Robo a transeúnte en espacio abierto al público",
          "El patrimonio/Robo/Robo a transeúnte en vía pública",
          "El patrimonio/Robo/Robo a transportista",
          "El patrimonio/Robo/Robo de autopartes",
          "El patrimonio/Robo/Robo de ganado",
          "El patrimonio/Robo/Robo en transporte individual",
          "El patrimonio/Robo/Robo en transporte público colectivo",
          "El patrimonio/Robo/Robo en transporte público individual",
          "Otros bienes jurídicos afectados (del fuero común)/Contra el medio ambiente/Contra el medio ambiente",
          "La sociedad/Corrupción de menores/Corrupción de menores",
          "El patrimonio/Daño a la propiedad/Daño a la propiedad",
          "Otros bienes jurídicos afectados (del fuero común)/Delitos cometidos por servidores públicos/Delitos cometidos por servidores públicos",
          "El patrimonio/Despojo/Despojo",
          "Otros bienes jurídicos afectados (del fuero común)/Electorales/Electorales",
          "La vida y la Integridad corporal/Homicidio/Homicidio culposo",
          "La vida y la Integridad corporal/Lesiones/Lesiones culposas",
          "Otros bienes jurídicos afectados (del fuero común)/Evasión de presos/Evasión de presos",
          "El patrimonio/Extorsión/Extorsión",
          "Otros bienes jurídicos afectados (del fuero común)/Falsedad/Falsedad",
          "Otros bienes jurídicos afectados (del fuero común)/Falsificación/Falsificación",
          "El patrimonio/Fraude/Fraude",
          "La libertad y la seguridad sexual/Hostigamiento sexual/Hostigamiento sexual",
          "La libertad y la seguridad sexual/Incesto/Incesto",
          "La familia/Incumplimiento de obligaciones de asistencia familiar/Incumplimiento de obligaciones de asistencia familiar",
          "Otros bienes jurídicos afectados (del fuero común)/Narcomenudeo/Narcomenudeo",
          "La vida y la Integridad corporal/Feminicidio/Feminicidio",
          "La vida y la Integridad corporal/Homicidio/Homicidio culposo",
          "La vida y la Integridad corporal/Homicidio/Homicidio doloso",
          "La vida y la Integridad corporal/Lesiones/Lesiones culposas",
          "La vida y la Integridad corporal/Lesiones/Lesiones dolosas",
          "Libertad personal/Secuestro/Secuestro",
          "El patrimonio/Otros delitos contra el patrimonio/Otros delitos contra el patrimonio",
          "La familia/Otros delitos contra la familia/Otros delitos contra la familia",
          "La sociedad/Otros delitos contra la sociedad/Otros delitos contra la sociedad",
          "Otros bienes jurídicos afectados (del fuero común)/Otros delitos del Fuero Común/Otros delitos del Fuero Común",
          "Libertad personal/Otros delitos que atentan contra la libertad personal/Otros delitos que atentan contra la libertad personal",
          "La libertad y la seguridad sexual/Otros delitos que atentan contra la libertad y la seguridad sexual/Otros delitos que atentan contra la libertad y la seguridad sexual",
          "La vida y la Integridad corporal/Otros delitos que atentan contra la vida y la integridad corporal/Otros delitos que atentan contra la vida y la integridad corporal",
          "Libertad personal/Rapto/Rapto",
          "El patrimonio/Robo/Robo de maquinaria",
          "El patrimonio/Robo/Robo de maquinaria",
          "El patrimonio/Robo/Robo de vehículo automotor",
          "El patrimonio/Robo/Robo de vehículo automotor",
          "El patrimonio/Robo/Robo de vehículo automotor",
          "El patrimonio/Robo/Robo de vehículo automotor",
          "El patrimonio/Robo/Robo de maquinaria",
          "El patrimonio/Robo/Robo de maquinaria",
          "El patrimonio/Robo/Robo de vehículo automotor",
          "El patrimonio/Robo/Robo de vehículo automotor",
          "El patrimonio/Robo/Robo de maquinaria",
          "El patrimonio/Robo/Robo de maquinaria",
          "Libertad personal/Secuestro/Secuestro",
          "Libertad personal/Secuestro/Secuestro",
          "Libertad personal/Secuestro/Secuestro",
          "Libertad personal/Secuestro/Secuestro",
          "El patrimonio/Robo/Otros robos",
          "El patrimonio/Robo/Robo a casa habitación",
          "El patrimonio/Robo/Robo a institución bancaria",
          "El patrimonio/Robo/Robo a negocio",
          "El patrimonio/Robo/Robo a transeúnte en espacio abierto al público",
          "El patrimonio/Robo/Robo a transeúnte en vía pública",
          "El patrimonio/Robo/Robo a transportista",
          "El patrimonio/Robo/Robo de autopartes",
          "El patrimonio/Robo/Robo de ganado",
          "El patrimonio/Robo/Robo en transporte individual",
          "El patrimonio/Robo/Robo en transporte público colectivo",
          "El patrimonio/Robo/Robo en transporte público individual",
          "La sociedad/Trata de personas/Trata de personas",
          "Libertad personal/Tráfico de menores/Tráfico de menores",
          "La libertad y la seguridad sexual/Violación equiparada/Violación equiparada",
          "La libertad y la seguridad sexual/Violación simple/Violación simple",
          "La familia/Violencia de género en todas sus modalidades distinta a la violencia familiar/Violencia de género en todas sus modalidades distinta a la violencia familiar",
          "La familia/Violencia familiar/Violencia familiar",
          "La vida y la Integridad corporal/Aborto",
          "El patrimonio/Abuso de confianza",
          "La libertad y la seguridad sexual/Abuso sexual",
          "La libertad y la seguridad sexual/Acoso sexual",
          "Otros bienes jurídicos afectados (del fuero común)/Allanamiento de morada",
          "Otros bienes jurídicos afectados (del fuero común)/Amenazas",
          "Otros bienes jurídicos afectados (del fuero común)/Contra el medio ambiente",
          "La sociedad/Corrupción de menores",
          "El patrimonio/Daño a la propiedad",
          "Otros bienes jurídicos afectados (del fuero común)/Delitos cometidos por servidores públicos",
          "El patrimonio/Despojo",
          "Otros bienes jurídicos afectados (del fuero común)/Electorales",
          "Otros bienes jurídicos afectados (del fuero común)/Evasión de presos",
          "El patrimonio/Extorsión",
          "Otros bienes jurídicos afectados (del fuero común)/Falsedad",
          "Otros bienes jurídicos afectados (del fuero común)/Falsificación",
          "La vida y la Integridad corporal/Feminicidio",
          "El patrimonio/Fraude",
          "La vida y la Integridad corporal/Homicidio",
          "La vida y la Integridad corporal/Homicidio",
          "La libertad y la seguridad sexual/Hostigamiento sexual",
          "La libertad y la seguridad sexual/Incesto",
          "La familia/Incumplimiento de obligaciones de asistencia familiar",
          "La vida y la Integridad corporal/Lesiones",
          "La vida y la Integridad corporal/Lesiones",
          "Otros bienes jurídicos afectados (del fuero común)/Narcomenudeo",
          "El patrimonio/Otros delitos contra el patrimonio",
          "La familia/Otros delitos contra la familia",
          "La sociedad/Otros delitos contra la sociedad",
          "Otros bienes jurídicos afectados (del fuero común)/Otros delitos del Fuero Común",
          "Libertad personal/Otros delitos que atentan contra la libertad personal",
          "La libertad y la seguridad sexual/Otros delitos que atentan contra la libertad y la seguridad sexual",
          "La vida y la Integridad corporal/Otros delitos que atentan contra la vida y la integridad corporal",
          "El patrimonio/Robo",
          "Libertad personal/Rapto",
          "El patrimonio/Robo",
          "El patrimonio/Robo",
          "El patrimonio/Robo",
          "El patrimonio/Robo",
          "El patrimonio/Robo",
          "El patrimonio/Robo",
          "El patrimonio/Robo",
          "El patrimonio/Robo",
          "El patrimonio/Robo",
          "El patrimonio/Robo",
          "El patrimonio/Robo",
          "El patrimonio/Robo",
          "El patrimonio/Robo",
          "Libertad personal/Secuestro",
          "La sociedad/Trata de personas",
          "Libertad personal/Tráfico de menores",
          "La libertad y la seguridad sexual/Violación equiparada",
          "La libertad y la seguridad sexual/Violación simple",
          "La familia/Violencia de género en todas sus modalidades distinta a la violencia familiar",
          "La familia/Violencia familiar",
          "La vida y la Integridad corporal",
          "El patrimonio",
          "La libertad y la seguridad sexual",
          "La libertad y la seguridad sexual",
          "Otros bienes jurídicos afectados (del fuero común)",
          "Otros bienes jurídicos afectados (del fuero común)",
          "Otros bienes jurídicos afectados (del fuero común)",
          "La sociedad",
          "El patrimonio",
          "Otros bienes jurídicos afectados (del fuero común)",
          "El patrimonio",
          "Otros bienes jurídicos afectados (del fuero común)",
          "Otros bienes jurídicos afectados (del fuero común)",
          "El patrimonio",
          "Otros bienes jurídicos afectados (del fuero común)",
          "Otros bienes jurídicos afectados (del fuero común)",
          "La vida y la Integridad corporal",
          "El patrimonio",
          "La vida y la Integridad corporal",
          "La libertad y la seguridad sexual",
          "La libertad y la seguridad sexual",
          "La familia",
          "La vida y la Integridad corporal",
          "Otros bienes jurídicos afectados (del fuero común)",
          "El patrimonio",
          "La familia",
          "La sociedad",
          "Otros bienes jurídicos afectados (del fuero común)",
          "Libertad personal",
          "La libertad y la seguridad sexual",
          "La vida y la Integridad corporal",
          "Libertad personal",
          "El patrimonio",
          "Libertad personal",
          "La sociedad",
          "Libertad personal",
          "La libertad y la seguridad sexual",
          "La libertad y la seguridad sexual",
          "La familia",
          "La familia",
          "",
          "",
          "",
          "",
          "",
          "",
          ""
         ],
         "type": "sunburst",
         "values": [
          5717,
          224606,
          193591,
          44306,
          116727,
          882644,
          1508,
          139,
          22059,
          2007,
          83408,
          1577,
          992,
          149201,
          3267,
          75244,
          3418,
          26396,
          42395,
          116857,
          1004671,
          344667,
          64933,
          2144,
          384718,
          22212,
          496745,
          71116,
          3856,
          2490,
          55227,
          95994,
          16035,
          16814,
          19656,
          1146190,
          158894,
          235444,
          11110,
          101686,
          245441,
          1000,
          67563,
          29467,
          142557,
          672840,
          14781,
          184,
          206013,
          542425,
          554,
          6222,
          6674,
          64930,
          173424,
          291,
          96721,
          104616,
          51201,
          1588593,
          163229,
          66258,
          73302,
          1365,
          400,
          8248,
          415239,
          779263,
          46,
          185,
          1032,
          3479,
          75329,
          193167,
          429,
          623,
          750,
          679,
          6360,
          181,
          1384740,
          595518,
          1217,
          435395,
          15012,
          160622,
          15055,
          143575,
          43181,
          63615,
          32939,
          5212,
          4558,
          615,
          36731,
          112329,
          29252,
          1781091,
          5717,
          224606,
          193591,
          44306,
          116727,
          882644,
          16814,
          19656,
          1146190,
          158894,
          235444,
          11110,
          1000,
          67563,
          29467,
          142557,
          7057,
          672840,
          135435,
          220329,
          14781,
          184,
          206013,
          432502,
          1336747,
          542425,
          96721,
          104616,
          51201,
          1588593,
          163229,
          66258,
          73302,
          1729407,
          1365,
          660451,
          3361,
          820113,
          37224,
          657367,
          86171,
          147431,
          45671,
          14211,
          1463229,
          118842,
          128933,
          21247,
          8261,
          4558,
          615,
          36731,
          112329,
          29252,
          1781091,
          5717,
          224606,
          193591,
          44306,
          116727,
          882644,
          16814,
          19656,
          1146190,
          158894,
          235444,
          11110,
          1000,
          67563,
          29467,
          142557,
          7057,
          672840,
          355764,
          14781,
          184,
          206013,
          1769249,
          542425,
          96721,
          104616,
          51201,
          1588593,
          163229,
          66258,
          73302,
          1365,
          5933658,
          8261,
          4558,
          615,
          36731,
          112329,
          29252,
          1781091,
          8377022,
          2120972,
          468180,
          75415,
          2211089,
          173470,
          3490231
         ]
        }
       ],
       "layout": {
        "legend": {
         "tracegroupgap": 0
        },
        "margin": {
         "t": 60
        },
        "template": {
         "data": {
          "bar": [
           {
            "error_x": {
             "color": "#2a3f5f"
            },
            "error_y": {
             "color": "#2a3f5f"
            },
            "marker": {
             "line": {
              "color": "#E5ECF6",
              "width": 0.5
             },
             "pattern": {
              "fillmode": "overlay",
              "size": 10,
              "solidity": 0.2
             }
            },
            "type": "bar"
           }
          ],
          "barpolar": [
           {
            "marker": {
             "line": {
              "color": "#E5ECF6",
              "width": 0.5
             },
             "pattern": {
              "fillmode": "overlay",
              "size": 10,
              "solidity": 0.2
             }
            },
            "type": "barpolar"
           }
          ],
          "carpet": [
           {
            "aaxis": {
             "endlinecolor": "#2a3f5f",
             "gridcolor": "white",
             "linecolor": "white",
             "minorgridcolor": "white",
             "startlinecolor": "#2a3f5f"
            },
            "baxis": {
             "endlinecolor": "#2a3f5f",
             "gridcolor": "white",
             "linecolor": "white",
             "minorgridcolor": "white",
             "startlinecolor": "#2a3f5f"
            },
            "type": "carpet"
           }
          ],
          "choropleth": [
           {
            "colorbar": {
             "outlinewidth": 0,
             "ticks": ""
            },
            "type": "choropleth"
           }
          ],
          "contour": [
           {
            "colorbar": {
             "outlinewidth": 0,
             "ticks": ""
            },
            "colorscale": [
             [
              0,
              "#0d0887"
             ],
             [
              0.1111111111111111,
              "#46039f"
             ],
             [
              0.2222222222222222,
              "#7201a8"
             ],
             [
              0.3333333333333333,
              "#9c179e"
             ],
             [
              0.4444444444444444,
              "#bd3786"
             ],
             [
              0.5555555555555556,
              "#d8576b"
             ],
             [
              0.6666666666666666,
              "#ed7953"
             ],
             [
              0.7777777777777778,
              "#fb9f3a"
             ],
             [
              0.8888888888888888,
              "#fdca26"
             ],
             [
              1,
              "#f0f921"
             ]
            ],
            "type": "contour"
           }
          ],
          "contourcarpet": [
           {
            "colorbar": {
             "outlinewidth": 0,
             "ticks": ""
            },
            "type": "contourcarpet"
           }
          ],
          "heatmap": [
           {
            "colorbar": {
             "outlinewidth": 0,
             "ticks": ""
            },
            "colorscale": [
             [
              0,
              "#0d0887"
             ],
             [
              0.1111111111111111,
              "#46039f"
             ],
             [
              0.2222222222222222,
              "#7201a8"
             ],
             [
              0.3333333333333333,
              "#9c179e"
             ],
             [
              0.4444444444444444,
              "#bd3786"
             ],
             [
              0.5555555555555556,
              "#d8576b"
             ],
             [
              0.6666666666666666,
              "#ed7953"
             ],
             [
              0.7777777777777778,
              "#fb9f3a"
             ],
             [
              0.8888888888888888,
              "#fdca26"
             ],
             [
              1,
              "#f0f921"
             ]
            ],
            "type": "heatmap"
           }
          ],
          "heatmapgl": [
           {
            "colorbar": {
             "outlinewidth": 0,
             "ticks": ""
            },
            "colorscale": [
             [
              0,
              "#0d0887"
             ],
             [
              0.1111111111111111,
              "#46039f"
             ],
             [
              0.2222222222222222,
              "#7201a8"
             ],
             [
              0.3333333333333333,
              "#9c179e"
             ],
             [
              0.4444444444444444,
              "#bd3786"
             ],
             [
              0.5555555555555556,
              "#d8576b"
             ],
             [
              0.6666666666666666,
              "#ed7953"
             ],
             [
              0.7777777777777778,
              "#fb9f3a"
             ],
             [
              0.8888888888888888,
              "#fdca26"
             ],
             [
              1,
              "#f0f921"
             ]
            ],
            "type": "heatmapgl"
           }
          ],
          "histogram": [
           {
            "marker": {
             "pattern": {
              "fillmode": "overlay",
              "size": 10,
              "solidity": 0.2
             }
            },
            "type": "histogram"
           }
          ],
          "histogram2d": [
           {
            "colorbar": {
             "outlinewidth": 0,
             "ticks": ""
            },
            "colorscale": [
             [
              0,
              "#0d0887"
             ],
             [
              0.1111111111111111,
              "#46039f"
             ],
             [
              0.2222222222222222,
              "#7201a8"
             ],
             [
              0.3333333333333333,
              "#9c179e"
             ],
             [
              0.4444444444444444,
              "#bd3786"
             ],
             [
              0.5555555555555556,
              "#d8576b"
             ],
             [
              0.6666666666666666,
              "#ed7953"
             ],
             [
              0.7777777777777778,
              "#fb9f3a"
             ],
             [
              0.8888888888888888,
              "#fdca26"
             ],
             [
              1,
              "#f0f921"
             ]
            ],
            "type": "histogram2d"
           }
          ],
          "histogram2dcontour": [
           {
            "colorbar": {
             "outlinewidth": 0,
             "ticks": ""
            },
            "colorscale": [
             [
              0,
              "#0d0887"
             ],
             [
              0.1111111111111111,
              "#46039f"
             ],
             [
              0.2222222222222222,
              "#7201a8"
             ],
             [
              0.3333333333333333,
              "#9c179e"
             ],
             [
              0.4444444444444444,
              "#bd3786"
             ],
             [
              0.5555555555555556,
              "#d8576b"
             ],
             [
              0.6666666666666666,
              "#ed7953"
             ],
             [
              0.7777777777777778,
              "#fb9f3a"
             ],
             [
              0.8888888888888888,
              "#fdca26"
             ],
             [
              1,
              "#f0f921"
             ]
            ],
            "type": "histogram2dcontour"
           }
          ],
          "mesh3d": [
           {
            "colorbar": {
             "outlinewidth": 0,
             "ticks": ""
            },
            "type": "mesh3d"
           }
          ],
          "parcoords": [
           {
            "line": {
             "colorbar": {
              "outlinewidth": 0,
              "ticks": ""
             }
            },
            "type": "parcoords"
           }
          ],
          "pie": [
           {
            "automargin": true,
            "type": "pie"
           }
          ],
          "scatter": [
           {
            "fillpattern": {
             "fillmode": "overlay",
             "size": 10,
             "solidity": 0.2
            },
            "type": "scatter"
           }
          ],
          "scatter3d": [
           {
            "line": {
             "colorbar": {
              "outlinewidth": 0,
              "ticks": ""
             }
            },
            "marker": {
             "colorbar": {
              "outlinewidth": 0,
              "ticks": ""
             }
            },
            "type": "scatter3d"
           }
          ],
          "scattercarpet": [
           {
            "marker": {
             "colorbar": {
              "outlinewidth": 0,
              "ticks": ""
             }
            },
            "type": "scattercarpet"
           }
          ],
          "scattergeo": [
           {
            "marker": {
             "colorbar": {
              "outlinewidth": 0,
              "ticks": ""
             }
            },
            "type": "scattergeo"
           }
          ],
          "scattergl": [
           {
            "marker": {
             "colorbar": {
              "outlinewidth": 0,
              "ticks": ""
             }
            },
            "type": "scattergl"
           }
          ],
          "scattermapbox": [
           {
            "marker": {
             "colorbar": {
              "outlinewidth": 0,
              "ticks": ""
             }
            },
            "type": "scattermapbox"
           }
          ],
          "scatterpolar": [
           {
            "marker": {
             "colorbar": {
              "outlinewidth": 0,
              "ticks": ""
             }
            },
            "type": "scatterpolar"
           }
          ],
          "scatterpolargl": [
           {
            "marker": {
             "colorbar": {
              "outlinewidth": 0,
              "ticks": ""
             }
            },
            "type": "scatterpolargl"
           }
          ],
          "scatterternary": [
           {
            "marker": {
             "colorbar": {
              "outlinewidth": 0,
              "ticks": ""
             }
            },
            "type": "scatterternary"
           }
          ],
          "surface": [
           {
            "colorbar": {
             "outlinewidth": 0,
             "ticks": ""
            },
            "colorscale": [
             [
              0,
              "#0d0887"
             ],
             [
              0.1111111111111111,
              "#46039f"
             ],
             [
              0.2222222222222222,
              "#7201a8"
             ],
             [
              0.3333333333333333,
              "#9c179e"
             ],
             [
              0.4444444444444444,
              "#bd3786"
             ],
             [
              0.5555555555555556,
              "#d8576b"
             ],
             [
              0.6666666666666666,
              "#ed7953"
             ],
             [
              0.7777777777777778,
              "#fb9f3a"
             ],
             [
              0.8888888888888888,
              "#fdca26"
             ],
             [
              1,
              "#f0f921"
             ]
            ],
            "type": "surface"
           }
          ],
          "table": [
           {
            "cells": {
             "fill": {
              "color": "#EBF0F8"
             },
             "line": {
              "color": "white"
             }
            },
            "header": {
             "fill": {
              "color": "#C8D4E3"
             },
             "line": {
              "color": "white"
             }
            },
            "type": "table"
           }
          ]
         },
         "layout": {
          "annotationdefaults": {
           "arrowcolor": "#2a3f5f",
           "arrowhead": 0,
           "arrowwidth": 1
          },
          "autotypenumbers": "strict",
          "coloraxis": {
           "colorbar": {
            "outlinewidth": 0,
            "ticks": ""
           }
          },
          "colorscale": {
           "diverging": [
            [
             0,
             "#8e0152"
            ],
            [
             0.1,
             "#c51b7d"
            ],
            [
             0.2,
             "#de77ae"
            ],
            [
             0.3,
             "#f1b6da"
            ],
            [
             0.4,
             "#fde0ef"
            ],
            [
             0.5,
             "#f7f7f7"
            ],
            [
             0.6,
             "#e6f5d0"
            ],
            [
             0.7,
             "#b8e186"
            ],
            [
             0.8,
             "#7fbc41"
            ],
            [
             0.9,
             "#4d9221"
            ],
            [
             1,
             "#276419"
            ]
           ],
           "sequential": [
            [
             0,
             "#0d0887"
            ],
            [
             0.1111111111111111,
             "#46039f"
            ],
            [
             0.2222222222222222,
             "#7201a8"
            ],
            [
             0.3333333333333333,
             "#9c179e"
            ],
            [
             0.4444444444444444,
             "#bd3786"
            ],
            [
             0.5555555555555556,
             "#d8576b"
            ],
            [
             0.6666666666666666,
             "#ed7953"
            ],
            [
             0.7777777777777778,
             "#fb9f3a"
            ],
            [
             0.8888888888888888,
             "#fdca26"
            ],
            [
             1,
             "#f0f921"
            ]
           ],
           "sequentialminus": [
            [
             0,
             "#0d0887"
            ],
            [
             0.1111111111111111,
             "#46039f"
            ],
            [
             0.2222222222222222,
             "#7201a8"
            ],
            [
             0.3333333333333333,
             "#9c179e"
            ],
            [
             0.4444444444444444,
             "#bd3786"
            ],
            [
             0.5555555555555556,
             "#d8576b"
            ],
            [
             0.6666666666666666,
             "#ed7953"
            ],
            [
             0.7777777777777778,
             "#fb9f3a"
            ],
            [
             0.8888888888888888,
             "#fdca26"
            ],
            [
             1,
             "#f0f921"
            ]
           ]
          },
          "colorway": [
           "#636efa",
           "#EF553B",
           "#00cc96",
           "#ab63fa",
           "#FFA15A",
           "#19d3f3",
           "#FF6692",
           "#B6E880",
           "#FF97FF",
           "#FECB52"
          ],
          "font": {
           "color": "#2a3f5f"
          },
          "geo": {
           "bgcolor": "white",
           "lakecolor": "white",
           "landcolor": "#E5ECF6",
           "showlakes": true,
           "showland": true,
           "subunitcolor": "white"
          },
          "hoverlabel": {
           "align": "left"
          },
          "hovermode": "closest",
          "mapbox": {
           "style": "light"
          },
          "paper_bgcolor": "white",
          "plot_bgcolor": "#E5ECF6",
          "polar": {
           "angularaxis": {
            "gridcolor": "white",
            "linecolor": "white",
            "ticks": ""
           },
           "bgcolor": "#E5ECF6",
           "radialaxis": {
            "gridcolor": "white",
            "linecolor": "white",
            "ticks": ""
           }
          },
          "scene": {
           "xaxis": {
            "backgroundcolor": "#E5ECF6",
            "gridcolor": "white",
            "gridwidth": 2,
            "linecolor": "white",
            "showbackground": true,
            "ticks": "",
            "zerolinecolor": "white"
           },
           "yaxis": {
            "backgroundcolor": "#E5ECF6",
            "gridcolor": "white",
            "gridwidth": 2,
            "linecolor": "white",
            "showbackground": true,
            "ticks": "",
            "zerolinecolor": "white"
           },
           "zaxis": {
            "backgroundcolor": "#E5ECF6",
            "gridcolor": "white",
            "gridwidth": 2,
            "linecolor": "white",
            "showbackground": true,
            "ticks": "",
            "zerolinecolor": "white"
           }
          },
          "shapedefaults": {
           "line": {
            "color": "#2a3f5f"
           }
          },
          "ternary": {
           "aaxis": {
            "gridcolor": "white",
            "linecolor": "white",
            "ticks": ""
           },
           "baxis": {
            "gridcolor": "white",
            "linecolor": "white",
            "ticks": ""
           },
           "bgcolor": "#E5ECF6",
           "caxis": {
            "gridcolor": "white",
            "linecolor": "white",
            "ticks": ""
           }
          },
          "title": {
           "x": 0.05
          },
          "xaxis": {
           "automargin": true,
           "gridcolor": "white",
           "linecolor": "white",
           "ticks": "",
           "title": {
            "standoff": 15
           },
           "zerolinecolor": "white",
           "zerolinewidth": 2
          },
          "yaxis": {
           "automargin": true,
           "gridcolor": "white",
           "linecolor": "white",
           "ticks": "",
           "title": {
            "standoff": 15
           },
           "zerolinecolor": "white",
           "zerolinewidth": 2
          }
         }
        },
        "title": {
         "text": "Analisis por niveles de detalle en el bien juridico afectado"
        },
        "uniformtext": {
         "minsize": 10,
         "mode": "hide"
        }
       }
      }
     },
     "metadata": {},
     "output_type": "display_data"
    }
   ],
   "source": [
    "fig = px.sunburst(df_1, path=['Bien jurídico afectado', 'Tipo de delito', 'Subtipo de delito','Modalidad'], values='Recuento') #,color=\"Recuento\")\n",
    "#fig.update_layout(margin = dict(t = 10, l = 10, r = 10, b = 10))#, textinfo='percent+label') #PARA HACERLO MÁS GRANDE\n",
    "fig.update_layout(title_text='Analisis por niveles de detalle en el bien juridico afectado')\n",
    "fig.update_layout(uniformtext=dict(minsize=10, mode='hide')) #PARA AJUSTAR AL TEXTO\n",
    "#fig.update_traces(textposition='outside', textinfo='percent+label')\n",
    "fig.show()"
   ]
  },
  {
   "cell_type": "code",
   "execution_count": 23,
   "metadata": {},
   "outputs": [
    {
     "data": {
      "application/vnd.plotly.v1+json": {
       "config": {
        "plotlyServerURL": "https://plot.ly"
       },
       "data": [
        {
         "branchvalues": "total",
         "domain": {
          "x": [
           0,
           1
          ],
          "y": [
           0,
           1
          ]
         },
         "hovertemplate": "labels=%{label}<br>Recuento=%{value}<br>parent=%{parent}<br>id=%{id}<extra></extra>",
         "ids": [
          "La vida y la Integridad corporal/Aborto",
          "El patrimonio/Abuso de confianza",
          "La libertad y la seguridad sexual/Abuso sexual",
          "La libertad y la seguridad sexual/Acoso sexual",
          "Otros bienes jurídicos afectados (del fuero común)/Allanamiento de morada",
          "Otros bienes jurídicos afectados (del fuero común)/Amenazas",
          "Otros bienes jurídicos afectados (del fuero común)/Contra el medio ambiente",
          "La sociedad/Corrupción de menores",
          "El patrimonio/Daño a la propiedad",
          "Otros bienes jurídicos afectados (del fuero común)/Delitos cometidos por servidores públicos",
          "El patrimonio/Despojo",
          "Otros bienes jurídicos afectados (del fuero común)/Electorales",
          "Otros bienes jurídicos afectados (del fuero común)/Evasión de presos",
          "El patrimonio/Extorsión",
          "Otros bienes jurídicos afectados (del fuero común)/Falsedad",
          "Otros bienes jurídicos afectados (del fuero común)/Falsificación",
          "La vida y la Integridad corporal/Feminicidio",
          "El patrimonio/Fraude",
          "La vida y la Integridad corporal/Homicidio",
          "La libertad y la seguridad sexual/Hostigamiento sexual",
          "La libertad y la seguridad sexual/Incesto",
          "La familia/Incumplimiento de obligaciones de asistencia familiar",
          "La vida y la Integridad corporal/Lesiones",
          "Otros bienes jurídicos afectados (del fuero común)/Narcomenudeo",
          "El patrimonio/Otros delitos contra el patrimonio",
          "La familia/Otros delitos contra la familia",
          "La sociedad/Otros delitos contra la sociedad",
          "Otros bienes jurídicos afectados (del fuero común)/Otros delitos del Fuero Común",
          "Libertad personal/Otros delitos que atentan contra la libertad personal",
          "La libertad y la seguridad sexual/Otros delitos que atentan contra la libertad y la seguridad sexual",
          "La vida y la Integridad corporal/Otros delitos que atentan contra la vida y la integridad corporal",
          "Libertad personal/Rapto",
          "El patrimonio/Robo",
          "Libertad personal/Secuestro",
          "La sociedad/Trata de personas",
          "Libertad personal/Tráfico de menores",
          "La libertad y la seguridad sexual/Violación equiparada",
          "La libertad y la seguridad sexual/Violación simple",
          "La familia/Violencia de género en todas sus modalidades distinta a la violencia familiar",
          "La familia/Violencia familiar",
          "El patrimonio",
          "La familia",
          "La libertad y la seguridad sexual",
          "La sociedad",
          "La vida y la Integridad corporal",
          "Libertad personal",
          "Otros bienes jurídicos afectados (del fuero común)"
         ],
         "labels": [
          "Aborto",
          "Abuso de confianza",
          "Abuso sexual",
          "Acoso sexual",
          "Allanamiento de morada",
          "Amenazas",
          "Contra el medio ambiente",
          "Corrupción de menores",
          "Daño a la propiedad",
          "Delitos cometidos por servidores públicos",
          "Despojo",
          "Electorales",
          "Evasión de presos",
          "Extorsión",
          "Falsedad",
          "Falsificación",
          "Feminicidio",
          "Fraude",
          "Homicidio",
          "Hostigamiento sexual",
          "Incesto",
          "Incumplimiento de obligaciones de asistencia familiar",
          "Lesiones",
          "Narcomenudeo",
          "Otros delitos contra el patrimonio",
          "Otros delitos contra la familia",
          "Otros delitos contra la sociedad",
          "Otros delitos del Fuero Común",
          "Otros delitos que atentan contra la libertad personal",
          "Otros delitos que atentan contra la libertad y la seguridad sexual",
          "Otros delitos que atentan contra la vida y la integridad corporal",
          "Rapto",
          "Robo",
          "Secuestro",
          "Trata de personas",
          "Tráfico de menores",
          "Violación equiparada",
          "Violación simple",
          "Violencia de género en todas sus modalidades distinta a la violencia familiar",
          "Violencia familiar",
          "El patrimonio",
          "La familia",
          "La libertad y la seguridad sexual",
          "La sociedad",
          "La vida y la Integridad corporal",
          "Libertad personal",
          "Otros bienes jurídicos afectados (del fuero común)"
         ],
         "maxdepth": 2,
         "name": "",
         "parents": [
          "La vida y la Integridad corporal",
          "El patrimonio",
          "La libertad y la seguridad sexual",
          "La libertad y la seguridad sexual",
          "Otros bienes jurídicos afectados (del fuero común)",
          "Otros bienes jurídicos afectados (del fuero común)",
          "Otros bienes jurídicos afectados (del fuero común)",
          "La sociedad",
          "El patrimonio",
          "Otros bienes jurídicos afectados (del fuero común)",
          "El patrimonio",
          "Otros bienes jurídicos afectados (del fuero común)",
          "Otros bienes jurídicos afectados (del fuero común)",
          "El patrimonio",
          "Otros bienes jurídicos afectados (del fuero común)",
          "Otros bienes jurídicos afectados (del fuero común)",
          "La vida y la Integridad corporal",
          "El patrimonio",
          "La vida y la Integridad corporal",
          "La libertad y la seguridad sexual",
          "La libertad y la seguridad sexual",
          "La familia",
          "La vida y la Integridad corporal",
          "Otros bienes jurídicos afectados (del fuero común)",
          "El patrimonio",
          "La familia",
          "La sociedad",
          "Otros bienes jurídicos afectados (del fuero común)",
          "Libertad personal",
          "La libertad y la seguridad sexual",
          "La vida y la Integridad corporal",
          "Libertad personal",
          "El patrimonio",
          "Libertad personal",
          "La sociedad",
          "Libertad personal",
          "La libertad y la seguridad sexual",
          "La libertad y la seguridad sexual",
          "La familia",
          "La familia",
          "",
          "",
          "",
          "",
          "",
          "",
          ""
         ],
         "type": "sunburst",
         "values": [
          5717,
          224606,
          193591,
          44306,
          116727,
          882644,
          16814,
          19656,
          1146190,
          158894,
          235444,
          11110,
          1000,
          67563,
          29467,
          142557,
          7057,
          672840,
          355764,
          14781,
          184,
          206013,
          1769249,
          542425,
          96721,
          104616,
          51201,
          1588593,
          163229,
          66258,
          73302,
          1365,
          5933658,
          8261,
          4558,
          615,
          36731,
          112329,
          29252,
          1781091,
          8377022,
          2120972,
          468180,
          75415,
          2211089,
          173470,
          3490231
         ]
        }
       ],
       "layout": {
        "legend": {
         "tracegroupgap": 0
        },
        "margin": {
         "t": 60
        },
        "template": {
         "data": {
          "bar": [
           {
            "error_x": {
             "color": "#2a3f5f"
            },
            "error_y": {
             "color": "#2a3f5f"
            },
            "marker": {
             "line": {
              "color": "#E5ECF6",
              "width": 0.5
             },
             "pattern": {
              "fillmode": "overlay",
              "size": 10,
              "solidity": 0.2
             }
            },
            "type": "bar"
           }
          ],
          "barpolar": [
           {
            "marker": {
             "line": {
              "color": "#E5ECF6",
              "width": 0.5
             },
             "pattern": {
              "fillmode": "overlay",
              "size": 10,
              "solidity": 0.2
             }
            },
            "type": "barpolar"
           }
          ],
          "carpet": [
           {
            "aaxis": {
             "endlinecolor": "#2a3f5f",
             "gridcolor": "white",
             "linecolor": "white",
             "minorgridcolor": "white",
             "startlinecolor": "#2a3f5f"
            },
            "baxis": {
             "endlinecolor": "#2a3f5f",
             "gridcolor": "white",
             "linecolor": "white",
             "minorgridcolor": "white",
             "startlinecolor": "#2a3f5f"
            },
            "type": "carpet"
           }
          ],
          "choropleth": [
           {
            "colorbar": {
             "outlinewidth": 0,
             "ticks": ""
            },
            "type": "choropleth"
           }
          ],
          "contour": [
           {
            "colorbar": {
             "outlinewidth": 0,
             "ticks": ""
            },
            "colorscale": [
             [
              0,
              "#0d0887"
             ],
             [
              0.1111111111111111,
              "#46039f"
             ],
             [
              0.2222222222222222,
              "#7201a8"
             ],
             [
              0.3333333333333333,
              "#9c179e"
             ],
             [
              0.4444444444444444,
              "#bd3786"
             ],
             [
              0.5555555555555556,
              "#d8576b"
             ],
             [
              0.6666666666666666,
              "#ed7953"
             ],
             [
              0.7777777777777778,
              "#fb9f3a"
             ],
             [
              0.8888888888888888,
              "#fdca26"
             ],
             [
              1,
              "#f0f921"
             ]
            ],
            "type": "contour"
           }
          ],
          "contourcarpet": [
           {
            "colorbar": {
             "outlinewidth": 0,
             "ticks": ""
            },
            "type": "contourcarpet"
           }
          ],
          "heatmap": [
           {
            "colorbar": {
             "outlinewidth": 0,
             "ticks": ""
            },
            "colorscale": [
             [
              0,
              "#0d0887"
             ],
             [
              0.1111111111111111,
              "#46039f"
             ],
             [
              0.2222222222222222,
              "#7201a8"
             ],
             [
              0.3333333333333333,
              "#9c179e"
             ],
             [
              0.4444444444444444,
              "#bd3786"
             ],
             [
              0.5555555555555556,
              "#d8576b"
             ],
             [
              0.6666666666666666,
              "#ed7953"
             ],
             [
              0.7777777777777778,
              "#fb9f3a"
             ],
             [
              0.8888888888888888,
              "#fdca26"
             ],
             [
              1,
              "#f0f921"
             ]
            ],
            "type": "heatmap"
           }
          ],
          "heatmapgl": [
           {
            "colorbar": {
             "outlinewidth": 0,
             "ticks": ""
            },
            "colorscale": [
             [
              0,
              "#0d0887"
             ],
             [
              0.1111111111111111,
              "#46039f"
             ],
             [
              0.2222222222222222,
              "#7201a8"
             ],
             [
              0.3333333333333333,
              "#9c179e"
             ],
             [
              0.4444444444444444,
              "#bd3786"
             ],
             [
              0.5555555555555556,
              "#d8576b"
             ],
             [
              0.6666666666666666,
              "#ed7953"
             ],
             [
              0.7777777777777778,
              "#fb9f3a"
             ],
             [
              0.8888888888888888,
              "#fdca26"
             ],
             [
              1,
              "#f0f921"
             ]
            ],
            "type": "heatmapgl"
           }
          ],
          "histogram": [
           {
            "marker": {
             "pattern": {
              "fillmode": "overlay",
              "size": 10,
              "solidity": 0.2
             }
            },
            "type": "histogram"
           }
          ],
          "histogram2d": [
           {
            "colorbar": {
             "outlinewidth": 0,
             "ticks": ""
            },
            "colorscale": [
             [
              0,
              "#0d0887"
             ],
             [
              0.1111111111111111,
              "#46039f"
             ],
             [
              0.2222222222222222,
              "#7201a8"
             ],
             [
              0.3333333333333333,
              "#9c179e"
             ],
             [
              0.4444444444444444,
              "#bd3786"
             ],
             [
              0.5555555555555556,
              "#d8576b"
             ],
             [
              0.6666666666666666,
              "#ed7953"
             ],
             [
              0.7777777777777778,
              "#fb9f3a"
             ],
             [
              0.8888888888888888,
              "#fdca26"
             ],
             [
              1,
              "#f0f921"
             ]
            ],
            "type": "histogram2d"
           }
          ],
          "histogram2dcontour": [
           {
            "colorbar": {
             "outlinewidth": 0,
             "ticks": ""
            },
            "colorscale": [
             [
              0,
              "#0d0887"
             ],
             [
              0.1111111111111111,
              "#46039f"
             ],
             [
              0.2222222222222222,
              "#7201a8"
             ],
             [
              0.3333333333333333,
              "#9c179e"
             ],
             [
              0.4444444444444444,
              "#bd3786"
             ],
             [
              0.5555555555555556,
              "#d8576b"
             ],
             [
              0.6666666666666666,
              "#ed7953"
             ],
             [
              0.7777777777777778,
              "#fb9f3a"
             ],
             [
              0.8888888888888888,
              "#fdca26"
             ],
             [
              1,
              "#f0f921"
             ]
            ],
            "type": "histogram2dcontour"
           }
          ],
          "mesh3d": [
           {
            "colorbar": {
             "outlinewidth": 0,
             "ticks": ""
            },
            "type": "mesh3d"
           }
          ],
          "parcoords": [
           {
            "line": {
             "colorbar": {
              "outlinewidth": 0,
              "ticks": ""
             }
            },
            "type": "parcoords"
           }
          ],
          "pie": [
           {
            "automargin": true,
            "type": "pie"
           }
          ],
          "scatter": [
           {
            "fillpattern": {
             "fillmode": "overlay",
             "size": 10,
             "solidity": 0.2
            },
            "type": "scatter"
           }
          ],
          "scatter3d": [
           {
            "line": {
             "colorbar": {
              "outlinewidth": 0,
              "ticks": ""
             }
            },
            "marker": {
             "colorbar": {
              "outlinewidth": 0,
              "ticks": ""
             }
            },
            "type": "scatter3d"
           }
          ],
          "scattercarpet": [
           {
            "marker": {
             "colorbar": {
              "outlinewidth": 0,
              "ticks": ""
             }
            },
            "type": "scattercarpet"
           }
          ],
          "scattergeo": [
           {
            "marker": {
             "colorbar": {
              "outlinewidth": 0,
              "ticks": ""
             }
            },
            "type": "scattergeo"
           }
          ],
          "scattergl": [
           {
            "marker": {
             "colorbar": {
              "outlinewidth": 0,
              "ticks": ""
             }
            },
            "type": "scattergl"
           }
          ],
          "scattermapbox": [
           {
            "marker": {
             "colorbar": {
              "outlinewidth": 0,
              "ticks": ""
             }
            },
            "type": "scattermapbox"
           }
          ],
          "scatterpolar": [
           {
            "marker": {
             "colorbar": {
              "outlinewidth": 0,
              "ticks": ""
             }
            },
            "type": "scatterpolar"
           }
          ],
          "scatterpolargl": [
           {
            "marker": {
             "colorbar": {
              "outlinewidth": 0,
              "ticks": ""
             }
            },
            "type": "scatterpolargl"
           }
          ],
          "scatterternary": [
           {
            "marker": {
             "colorbar": {
              "outlinewidth": 0,
              "ticks": ""
             }
            },
            "type": "scatterternary"
           }
          ],
          "surface": [
           {
            "colorbar": {
             "outlinewidth": 0,
             "ticks": ""
            },
            "colorscale": [
             [
              0,
              "#0d0887"
             ],
             [
              0.1111111111111111,
              "#46039f"
             ],
             [
              0.2222222222222222,
              "#7201a8"
             ],
             [
              0.3333333333333333,
              "#9c179e"
             ],
             [
              0.4444444444444444,
              "#bd3786"
             ],
             [
              0.5555555555555556,
              "#d8576b"
             ],
             [
              0.6666666666666666,
              "#ed7953"
             ],
             [
              0.7777777777777778,
              "#fb9f3a"
             ],
             [
              0.8888888888888888,
              "#fdca26"
             ],
             [
              1,
              "#f0f921"
             ]
            ],
            "type": "surface"
           }
          ],
          "table": [
           {
            "cells": {
             "fill": {
              "color": "#EBF0F8"
             },
             "line": {
              "color": "white"
             }
            },
            "header": {
             "fill": {
              "color": "#C8D4E3"
             },
             "line": {
              "color": "white"
             }
            },
            "type": "table"
           }
          ]
         },
         "layout": {
          "annotationdefaults": {
           "arrowcolor": "#2a3f5f",
           "arrowhead": 0,
           "arrowwidth": 1
          },
          "autotypenumbers": "strict",
          "coloraxis": {
           "colorbar": {
            "outlinewidth": 0,
            "ticks": ""
           }
          },
          "colorscale": {
           "diverging": [
            [
             0,
             "#8e0152"
            ],
            [
             0.1,
             "#c51b7d"
            ],
            [
             0.2,
             "#de77ae"
            ],
            [
             0.3,
             "#f1b6da"
            ],
            [
             0.4,
             "#fde0ef"
            ],
            [
             0.5,
             "#f7f7f7"
            ],
            [
             0.6,
             "#e6f5d0"
            ],
            [
             0.7,
             "#b8e186"
            ],
            [
             0.8,
             "#7fbc41"
            ],
            [
             0.9,
             "#4d9221"
            ],
            [
             1,
             "#276419"
            ]
           ],
           "sequential": [
            [
             0,
             "#0d0887"
            ],
            [
             0.1111111111111111,
             "#46039f"
            ],
            [
             0.2222222222222222,
             "#7201a8"
            ],
            [
             0.3333333333333333,
             "#9c179e"
            ],
            [
             0.4444444444444444,
             "#bd3786"
            ],
            [
             0.5555555555555556,
             "#d8576b"
            ],
            [
             0.6666666666666666,
             "#ed7953"
            ],
            [
             0.7777777777777778,
             "#fb9f3a"
            ],
            [
             0.8888888888888888,
             "#fdca26"
            ],
            [
             1,
             "#f0f921"
            ]
           ],
           "sequentialminus": [
            [
             0,
             "#0d0887"
            ],
            [
             0.1111111111111111,
             "#46039f"
            ],
            [
             0.2222222222222222,
             "#7201a8"
            ],
            [
             0.3333333333333333,
             "#9c179e"
            ],
            [
             0.4444444444444444,
             "#bd3786"
            ],
            [
             0.5555555555555556,
             "#d8576b"
            ],
            [
             0.6666666666666666,
             "#ed7953"
            ],
            [
             0.7777777777777778,
             "#fb9f3a"
            ],
            [
             0.8888888888888888,
             "#fdca26"
            ],
            [
             1,
             "#f0f921"
            ]
           ]
          },
          "colorway": [
           "#636efa",
           "#EF553B",
           "#00cc96",
           "#ab63fa",
           "#FFA15A",
           "#19d3f3",
           "#FF6692",
           "#B6E880",
           "#FF97FF",
           "#FECB52"
          ],
          "font": {
           "color": "#2a3f5f"
          },
          "geo": {
           "bgcolor": "white",
           "lakecolor": "white",
           "landcolor": "#E5ECF6",
           "showlakes": true,
           "showland": true,
           "subunitcolor": "white"
          },
          "hoverlabel": {
           "align": "left"
          },
          "hovermode": "closest",
          "mapbox": {
           "style": "light"
          },
          "paper_bgcolor": "white",
          "plot_bgcolor": "#E5ECF6",
          "polar": {
           "angularaxis": {
            "gridcolor": "white",
            "linecolor": "white",
            "ticks": ""
           },
           "bgcolor": "#E5ECF6",
           "radialaxis": {
            "gridcolor": "white",
            "linecolor": "white",
            "ticks": ""
           }
          },
          "scene": {
           "xaxis": {
            "backgroundcolor": "#E5ECF6",
            "gridcolor": "white",
            "gridwidth": 2,
            "linecolor": "white",
            "showbackground": true,
            "ticks": "",
            "zerolinecolor": "white"
           },
           "yaxis": {
            "backgroundcolor": "#E5ECF6",
            "gridcolor": "white",
            "gridwidth": 2,
            "linecolor": "white",
            "showbackground": true,
            "ticks": "",
            "zerolinecolor": "white"
           },
           "zaxis": {
            "backgroundcolor": "#E5ECF6",
            "gridcolor": "white",
            "gridwidth": 2,
            "linecolor": "white",
            "showbackground": true,
            "ticks": "",
            "zerolinecolor": "white"
           }
          },
          "shapedefaults": {
           "line": {
            "color": "#2a3f5f"
           }
          },
          "ternary": {
           "aaxis": {
            "gridcolor": "white",
            "linecolor": "white",
            "ticks": ""
           },
           "baxis": {
            "gridcolor": "white",
            "linecolor": "white",
            "ticks": ""
           },
           "bgcolor": "#E5ECF6",
           "caxis": {
            "gridcolor": "white",
            "linecolor": "white",
            "ticks": ""
           }
          },
          "title": {
           "x": 0.05
          },
          "xaxis": {
           "automargin": true,
           "gridcolor": "white",
           "linecolor": "white",
           "ticks": "",
           "title": {
            "standoff": 15
           },
           "zerolinecolor": "white",
           "zerolinewidth": 2
          },
          "yaxis": {
           "automargin": true,
           "gridcolor": "white",
           "linecolor": "white",
           "ticks": "",
           "title": {
            "standoff": 15
           },
           "zerolinecolor": "white",
           "zerolinewidth": 2
          }
         }
        },
        "title": {
         "text": "Desgloce Bien Jurídico Afectado"
        },
        "uniformtext": {
         "minsize": 10,
         "mode": "hide"
        }
       }
      }
     },
     "metadata": {},
     "output_type": "display_data"
    },
    {
     "data": {
      "application/vnd.plotly.v1+json": {
       "config": {
        "plotlyServerURL": "https://plot.ly"
       },
       "data": [
        {
         "branchvalues": "total",
         "customdata": [
          [
           71.06401959069441
          ],
          [
           1778.2970713159934
          ],
          [
           1691.4343073799919
          ],
          [
           1147.3771949623076
          ],
          [
           1018.895396951862
          ],
          [
           5976.391974567323
          ],
          [
           10.76525198938992
          ],
          [
           4.884892086330935
          ],
          [
           124.81576680719887
          ],
          [
           279.56502242152465
          ],
          [
           597.1735804718971
          ],
          [
           15.223208623969562
          ],
          [
           38.53629032258065
          ],
          [
           1036.4165052513054
          ],
          [
           316.8836853382308
          ],
          [
           773.9488597097443
          ],
          [
           36.64540667056758
          ],
          [
           507.64123352023034
          ],
          [
           293.921948342965
          ],
          [
           7651.072070992752
          ],
          [
           16633.77107829329
          ],
          [
           5070.019581218974
          ],
          [
           606.9152357044954
          ],
          [
           24.50186567164179
          ],
          [
           5588.123243518629
          ],
          [
           837.382225823879
          ],
          [
           10511.067129009854
          ],
          [
           2180.636649980314
          ],
          [
           289.93516597510376
          ],
          [
           110.21124497991968
          ],
          [
           2497.064425009506
          ],
          [
           6951.358126549576
          ],
          [
           533.4910508263174
          ],
          [
           497.0215296776496
          ],
          [
           215.6155881155881
          ],
          [
           6648.93303553512
          ],
          [
           2286.5737535715634
          ],
          [
           1805.6125278197787
          ],
          [
           271.44842484248426
          ],
          [
           522.683928957772
          ],
          [
           2351.6677775921708
          ],
          [
           9.654
          ],
          [
           1160.196779302281
          ],
          [
           213.77632605965997
          ],
          [
           2571.094165842435
          ],
          [
           6537.275922953451
          ],
          [
           188.15810838238278
          ],
          [
           11.391304347826088
          ],
          [
           1387.1600384441758
          ],
          [
           6719.24835507213
          ],
          [
           20.422382671480143
          ],
          [
           358.9961427193828
          ],
          [
           240.99820197782438
          ],
          [
           2290.0444478669338
          ],
          [
           3622.5947965679493
          ],
          [
           37.24742268041237
          ],
          [
           1619.542674289968
          ],
          [
           2540.831670107823
          ],
          [
           2022.427433057948
          ],
          [
           30768.897549592628
          ],
          [
           1565.8302936365474
          ],
          [
           688.0115306830874
          ],
          [
           756.8776295326185
          ],
          [
           88.94578754578754
          ],
          [
           41.07
          ],
          [
           372.74078564500485
          ],
          [
           9714.904869243977
          ],
          [
           7851.879541310187
          ],
          [
           3.739130434782609
          ],
          [
           8.308108108108108
          ],
          [
           28.930232558139537
          ],
          [
           57.899683817188844
          ],
          [
           1352.6965577665972
          ],
          [
           1430.9950405607583
          ],
          [
           9.717948717948717
          ],
          [
           9.510433386837882
          ],
          [
           131.824
          ],
          [
           113.70692194403534
          ],
          [
           90.7685534591195
          ],
          [
           4.524861878453039
          ],
          [
           14101.400306194664
          ],
          [
           3893.661655902928
          ],
          [
           27.96466721446179
          ],
          [
           5362.580505058625
          ],
          [
           390.10378363975485
          ],
          [
           2862.2872707350175
          ],
          [
           401.64417137163736
          ],
          [
           4122.295685181961
          ],
          [
           362.3596720779973
          ],
          [
           5238.371626188792
          ],
          [
           2581.964753028325
          ],
          [
           139.14773599386032
          ],
          [
           72.93242650285212
          ],
          [
           78.64552845528455
          ],
          [
           524.9121178296263
          ],
          [
           629.8663657648515
          ],
          [
           1407.5566115137426
          ],
          [
           11646.338347114213
          ],
          [
           71.06401959069441
          ],
          [
           1778.2970713159934
          ],
          [
           1691.4343073799919
          ],
          [
           1147.3771949623076
          ],
          [
           1018.895396951862
          ],
          [
           5976.391974567323
          ],
          [
           497.0215296776496
          ],
          [
           215.6155881155881
          ],
          [
           6648.93303553512
          ],
          [
           2286.5737535715634
          ],
          [
           1805.6125278197787
          ],
          [
           271.44842484248426
          ],
          [
           9.654
          ],
          [
           1160.196779302281
          ],
          [
           213.77632605965997
          ],
          [
           2571.094165842435
          ],
          [
           25.054414056964717
          ],
          [
           6537.275922953451
          ],
          [
           508.1545907630967
          ],
          [
           778.1859537328269
          ],
          [
           188.15810838238278
          ],
          [
           11.391304347826088
          ],
          [
           1387.1600384441758
          ],
          [
           3749.268100494333
          ],
          [
           13052.399866990538
          ],
          [
           6719.24835507213
          ],
          [
           1619.542674289968
          ],
          [
           2540.831670107823
          ],
          [
           2022.427433057948
          ],
          [
           30768.897549592628
          ],
          [
           1565.8302936365474
          ],
          [
           688.0115306830874
          ],
          [
           756.8776295326185
          ],
          [
           12301.466051079937
          ],
          [
           88.94578754578754
          ],
          [
           3570.521399770763
          ],
          [
           25.75572746206486
          ],
          [
           5468.38342643026
          ],
          [
           657.0001074575542
          ],
          [
           8642.153237080656
          ],
          [
           1869.8275405879008
          ],
          [
           4022.0617984006076
          ],
          [
           348.61244553436535
          ],
          [
           234.4787136725072
          ],
          [
           7197.100793518991
          ],
          [
           3964.4602749869573
          ],
          [
           5835.092714820876
          ],
          [
           436.7565773991622
          ],
          [
           92.6063430577412
          ],
          [
           72.93242650285212
          ],
          [
           78.64552845528455
          ],
          [
           524.9121178296263
          ],
          [
           629.8663657648515
          ],
          [
           1407.5566115137426
          ],
          [
           11646.338347114213
          ]
         ],
         "domain": {
          "x": [
           0,
           1
          ],
          "y": [
           0,
           1
          ]
         },
         "hovertemplate": "labels=%{label}<br>Recuento_sum=%{value}<br>parent=%{parent}<br>id=%{id}<br>Recuento=%{color}<extra></extra>",
         "ids": [
          "Aborto/Aborto",
          "Abuso de confianza/Abuso de confianza",
          "Abuso sexual/Abuso sexual",
          "Acoso sexual/Acoso sexual",
          "Allanamiento de morada/Allanamiento de morada",
          "Amenazas/Amenazas",
          "Feminicidio/Con arma blanca",
          "Homicidio culposo/Con arma blanca",
          "Homicidio doloso/Con arma blanca",
          "Lesiones culposas/Con arma blanca",
          "Lesiones dolosas/Con arma blanca",
          "Feminicidio/Con arma de fuego",
          "Homicidio culposo/Con arma de fuego",
          "Homicidio doloso/Con arma de fuego",
          "Lesiones culposas/Con arma de fuego",
          "Lesiones dolosas/Con arma de fuego",
          "Feminicidio/Con otro elemento",
          "Homicidio culposo/Con otro elemento",
          "Homicidio doloso/Con otro elemento",
          "Lesiones culposas/Con otro elemento",
          "Lesiones dolosas/Con otro elemento",
          "Otros robos/Con violencia",
          "Robo a casa habitación/Con violencia",
          "Robo a institución bancaria/Con violencia",
          "Robo a negocio/Con violencia",
          "Robo a transeúnte en espacio abierto al público/Con violencia",
          "Robo a transeúnte en vía pública/Con violencia",
          "Robo a transportista/Con violencia",
          "Robo de autopartes/Con violencia",
          "Robo de ganado/Con violencia",
          "Robo en transporte individual/Con violencia",
          "Robo en transporte público colectivo/Con violencia",
          "Robo en transporte público individual/Con violencia",
          "Contra el medio ambiente/Contra el medio ambiente",
          "Corrupción de menores/Corrupción de menores",
          "Daño a la propiedad/Daño a la propiedad",
          "Delitos cometidos por servidores públicos/Delitos cometidos por servidores públicos",
          "Despojo/Despojo",
          "Electorales/Electorales",
          "Homicidio culposo/En accidente de tránsito",
          "Lesiones culposas/En accidente de tránsito",
          "Evasión de presos/Evasión de presos",
          "Extorsión/Extorsión",
          "Falsedad/Falsedad",
          "Falsificación/Falsificación",
          "Fraude/Fraude",
          "Hostigamiento sexual/Hostigamiento sexual",
          "Incesto/Incesto",
          "Incumplimiento de obligaciones de asistencia familiar/Incumplimiento de obligaciones de asistencia familiar",
          "Narcomenudeo/Narcomenudeo",
          "Feminicidio/No especificado",
          "Homicidio culposo/No especificado",
          "Homicidio doloso/No especificado",
          "Lesiones culposas/No especificado",
          "Lesiones dolosas/No especificado",
          "Secuestro/Otro tipo de secuestros",
          "Otros delitos contra el patrimonio/Otros delitos contra el patrimonio",
          "Otros delitos contra la familia/Otros delitos contra la familia",
          "Otros delitos contra la sociedad/Otros delitos contra la sociedad",
          "Otros delitos del Fuero Común/Otros delitos del Fuero Común",
          "Otros delitos que atentan contra la libertad personal/Otros delitos que atentan contra la libertad personal",
          "Otros delitos que atentan contra la libertad y la seguridad sexual/Otros delitos que atentan contra la libertad y la seguridad sexual",
          "Otros delitos que atentan contra la vida y la integridad corporal/Otros delitos que atentan contra la vida y la integridad corporal",
          "Rapto/Rapto",
          "Robo de maquinaria/Robo de cables, tubos y otros objetos destinados a servicios públicos Con violencia",
          "Robo de maquinaria/Robo de cables, tubos y otros objetos destinados a servicios públicos Sin violencia",
          "Robo de vehículo automotor/Robo de coche de 4 ruedas Con violencia",
          "Robo de vehículo automotor/Robo de coche de 4 ruedas Sin violencia",
          "Robo de vehículo automotor/Robo de embarcaciones pequeñas y grandes Con violencia",
          "Robo de vehículo automotor/Robo de embarcaciones pequeñas y grandes Sin violencia",
          "Robo de maquinaria/Robo de herramienta industrial o agrícola Con violencia",
          "Robo de maquinaria/Robo de herramienta industrial o agrícola Sin violencia",
          "Robo de vehículo automotor/Robo de motocicleta Con violencia",
          "Robo de vehículo automotor/Robo de motocicleta Sin violencia",
          "Robo de maquinaria/Robo de tractores Con violencia",
          "Robo de maquinaria/Robo de tractores Sin violencia",
          "Secuestro/Secuestro con calidad de rehén",
          "Secuestro/Secuestro exprés",
          "Secuestro/Secuestro extorsivo",
          "Secuestro/Secuestro para causar daño",
          "Otros robos/Sin violencia",
          "Robo a casa habitación/Sin violencia",
          "Robo a institución bancaria/Sin violencia",
          "Robo a negocio/Sin violencia",
          "Robo a transeúnte en espacio abierto al público/Sin violencia",
          "Robo a transeúnte en vía pública/Sin violencia",
          "Robo a transportista/Sin violencia",
          "Robo de autopartes/Sin violencia",
          "Robo de ganado/Sin violencia",
          "Robo en transporte individual/Sin violencia",
          "Robo en transporte público colectivo/Sin violencia",
          "Robo en transporte público individual/Sin violencia",
          "Trata de personas/Trata de personas",
          "Tráfico de menores/Tráfico de menores",
          "Violación equiparada/Violación equiparada",
          "Violación simple/Violación simple",
          "Violencia de género en todas sus modalidades distinta a la violencia familiar/Violencia de género en todas sus modalidades distinta a la violencia familiar",
          "Violencia familiar/Violencia familiar",
          "Aborto",
          "Abuso de confianza",
          "Abuso sexual",
          "Acoso sexual",
          "Allanamiento de morada",
          "Amenazas",
          "Contra el medio ambiente",
          "Corrupción de menores",
          "Daño a la propiedad",
          "Delitos cometidos por servidores públicos",
          "Despojo",
          "Electorales",
          "Evasión de presos",
          "Extorsión",
          "Falsedad",
          "Falsificación",
          "Feminicidio",
          "Fraude",
          "Homicidio culposo",
          "Homicidio doloso",
          "Hostigamiento sexual",
          "Incesto",
          "Incumplimiento de obligaciones de asistencia familiar",
          "Lesiones culposas",
          "Lesiones dolosas",
          "Narcomenudeo",
          "Otros delitos contra el patrimonio",
          "Otros delitos contra la familia",
          "Otros delitos contra la sociedad",
          "Otros delitos del Fuero Común",
          "Otros delitos que atentan contra la libertad personal",
          "Otros delitos que atentan contra la libertad y la seguridad sexual",
          "Otros delitos que atentan contra la vida y la integridad corporal",
          "Otros robos",
          "Rapto",
          "Robo a casa habitación",
          "Robo a institución bancaria",
          "Robo a negocio",
          "Robo a transeúnte en espacio abierto al público",
          "Robo a transeúnte en vía pública",
          "Robo a transportista",
          "Robo de autopartes",
          "Robo de ganado",
          "Robo de maquinaria",
          "Robo de vehículo automotor",
          "Robo en transporte individual",
          "Robo en transporte público colectivo",
          "Robo en transporte público individual",
          "Secuestro",
          "Trata de personas",
          "Tráfico de menores",
          "Violación equiparada",
          "Violación simple",
          "Violencia de género en todas sus modalidades distinta a la violencia familiar",
          "Violencia familiar"
         ],
         "labels": [
          "Aborto",
          "Abuso de confianza",
          "Abuso sexual",
          "Acoso sexual",
          "Allanamiento de morada",
          "Amenazas",
          "Con arma blanca",
          "Con arma blanca",
          "Con arma blanca",
          "Con arma blanca",
          "Con arma blanca",
          "Con arma de fuego",
          "Con arma de fuego",
          "Con arma de fuego",
          "Con arma de fuego",
          "Con arma de fuego",
          "Con otro elemento",
          "Con otro elemento",
          "Con otro elemento",
          "Con otro elemento",
          "Con otro elemento",
          "Con violencia",
          "Con violencia",
          "Con violencia",
          "Con violencia",
          "Con violencia",
          "Con violencia",
          "Con violencia",
          "Con violencia",
          "Con violencia",
          "Con violencia",
          "Con violencia",
          "Con violencia",
          "Contra el medio ambiente",
          "Corrupción de menores",
          "Daño a la propiedad",
          "Delitos cometidos por servidores públicos",
          "Despojo",
          "Electorales",
          "En accidente de tránsito",
          "En accidente de tránsito",
          "Evasión de presos",
          "Extorsión",
          "Falsedad",
          "Falsificación",
          "Fraude",
          "Hostigamiento sexual",
          "Incesto",
          "Incumplimiento de obligaciones de asistencia familiar",
          "Narcomenudeo",
          "No especificado",
          "No especificado",
          "No especificado",
          "No especificado",
          "No especificado",
          "Otro tipo de secuestros",
          "Otros delitos contra el patrimonio",
          "Otros delitos contra la familia",
          "Otros delitos contra la sociedad",
          "Otros delitos del Fuero Común",
          "Otros delitos que atentan contra la libertad personal",
          "Otros delitos que atentan contra la libertad y la seguridad sexual",
          "Otros delitos que atentan contra la vida y la integridad corporal",
          "Rapto",
          "Robo de cables, tubos y otros objetos destinados a servicios públicos Con violencia",
          "Robo de cables, tubos y otros objetos destinados a servicios públicos Sin violencia",
          "Robo de coche de 4 ruedas Con violencia",
          "Robo de coche de 4 ruedas Sin violencia",
          "Robo de embarcaciones pequeñas y grandes Con violencia",
          "Robo de embarcaciones pequeñas y grandes Sin violencia",
          "Robo de herramienta industrial o agrícola Con violencia",
          "Robo de herramienta industrial o agrícola Sin violencia",
          "Robo de motocicleta Con violencia",
          "Robo de motocicleta Sin violencia",
          "Robo de tractores Con violencia",
          "Robo de tractores Sin violencia",
          "Secuestro con calidad de rehén",
          "Secuestro exprés",
          "Secuestro extorsivo",
          "Secuestro para causar daño",
          "Sin violencia",
          "Sin violencia",
          "Sin violencia",
          "Sin violencia",
          "Sin violencia",
          "Sin violencia",
          "Sin violencia",
          "Sin violencia",
          "Sin violencia",
          "Sin violencia",
          "Sin violencia",
          "Sin violencia",
          "Trata de personas",
          "Tráfico de menores",
          "Violación equiparada",
          "Violación simple",
          "Violencia de género en todas sus modalidades distinta a la violencia familiar",
          "Violencia familiar",
          "Aborto",
          "Abuso de confianza",
          "Abuso sexual",
          "Acoso sexual",
          "Allanamiento de morada",
          "Amenazas",
          "Contra el medio ambiente",
          "Corrupción de menores",
          "Daño a la propiedad",
          "Delitos cometidos por servidores públicos",
          "Despojo",
          "Electorales",
          "Evasión de presos",
          "Extorsión",
          "Falsedad",
          "Falsificación",
          "Feminicidio",
          "Fraude",
          "Homicidio culposo",
          "Homicidio doloso",
          "Hostigamiento sexual",
          "Incesto",
          "Incumplimiento de obligaciones de asistencia familiar",
          "Lesiones culposas",
          "Lesiones dolosas",
          "Narcomenudeo",
          "Otros delitos contra el patrimonio",
          "Otros delitos contra la familia",
          "Otros delitos contra la sociedad",
          "Otros delitos del Fuero Común",
          "Otros delitos que atentan contra la libertad personal",
          "Otros delitos que atentan contra la libertad y la seguridad sexual",
          "Otros delitos que atentan contra la vida y la integridad corporal",
          "Otros robos",
          "Rapto",
          "Robo a casa habitación",
          "Robo a institución bancaria",
          "Robo a negocio",
          "Robo a transeúnte en espacio abierto al público",
          "Robo a transeúnte en vía pública",
          "Robo a transportista",
          "Robo de autopartes",
          "Robo de ganado",
          "Robo de maquinaria",
          "Robo de vehículo automotor",
          "Robo en transporte individual",
          "Robo en transporte público colectivo",
          "Robo en transporte público individual",
          "Secuestro",
          "Trata de personas",
          "Tráfico de menores",
          "Violación equiparada",
          "Violación simple",
          "Violencia de género en todas sus modalidades distinta a la violencia familiar",
          "Violencia familiar"
         ],
         "marker": {
          "coloraxis": "coloraxis",
          "colors": [
           71.06401959069441,
           1778.2970713159934,
           1691.4343073799919,
           1147.3771949623076,
           1018.895396951862,
           5976.391974567323,
           10.76525198938992,
           4.884892086330935,
           124.81576680719887,
           279.56502242152465,
           597.1735804718971,
           15.223208623969562,
           38.53629032258065,
           1036.4165052513054,
           316.8836853382308,
           773.9488597097443,
           36.64540667056758,
           507.64123352023034,
           293.921948342965,
           7651.072070992752,
           16633.77107829329,
           5070.019581218974,
           606.9152357044954,
           24.50186567164179,
           5588.123243518629,
           837.382225823879,
           10511.067129009854,
           2180.636649980314,
           289.93516597510376,
           110.21124497991968,
           2497.064425009506,
           6951.358126549576,
           533.4910508263174,
           497.0215296776496,
           215.6155881155881,
           6648.93303553512,
           2286.5737535715634,
           1805.6125278197787,
           271.44842484248426,
           522.683928957772,
           2351.6677775921708,
           9.654,
           1160.196779302281,
           213.77632605965997,
           2571.094165842435,
           6537.275922953451,
           188.15810838238278,
           11.391304347826088,
           1387.1600384441758,
           6719.24835507213,
           20.422382671480143,
           358.9961427193828,
           240.99820197782438,
           2290.0444478669338,
           3622.5947965679493,
           37.24742268041237,
           1619.542674289968,
           2540.831670107823,
           2022.427433057948,
           30768.897549592628,
           1565.8302936365474,
           688.0115306830874,
           756.8776295326185,
           88.94578754578754,
           41.07,
           372.74078564500485,
           9714.904869243977,
           7851.879541310187,
           3.739130434782609,
           8.308108108108108,
           28.930232558139537,
           57.899683817188844,
           1352.6965577665972,
           1430.9950405607583,
           9.717948717948717,
           9.510433386837882,
           131.824,
           113.70692194403534,
           90.7685534591195,
           4.524861878453039,
           14101.400306194664,
           3893.661655902928,
           27.96466721446179,
           5362.580505058625,
           390.10378363975485,
           2862.2872707350175,
           401.64417137163736,
           4122.295685181961,
           362.3596720779973,
           5238.371626188792,
           2581.964753028325,
           139.14773599386032,
           72.93242650285212,
           78.64552845528455,
           524.9121178296263,
           629.8663657648515,
           1407.5566115137426,
           11646.338347114213,
           71.06401959069441,
           1778.2970713159934,
           1691.4343073799919,
           1147.3771949623076,
           1018.895396951862,
           5976.391974567323,
           497.0215296776496,
           215.6155881155881,
           6648.93303553512,
           2286.5737535715634,
           1805.6125278197787,
           271.44842484248426,
           9.654,
           1160.196779302281,
           213.77632605965997,
           2571.094165842435,
           25.054414056964717,
           6537.275922953451,
           508.1545907630967,
           778.1859537328269,
           188.15810838238278,
           11.391304347826088,
           1387.1600384441758,
           3749.268100494333,
           13052.399866990538,
           6719.24835507213,
           1619.542674289968,
           2540.831670107823,
           2022.427433057948,
           30768.897549592628,
           1565.8302936365474,
           688.0115306830874,
           756.8776295326185,
           12301.466051079937,
           88.94578754578754,
           3570.521399770763,
           25.75572746206486,
           5468.38342643026,
           657.0001074575542,
           8642.153237080656,
           1869.8275405879008,
           4022.0617984006076,
           348.61244553436535,
           234.4787136725072,
           7197.100793518991,
           3964.4602749869573,
           5835.092714820876,
           436.7565773991622,
           92.6063430577412,
           72.93242650285212,
           78.64552845528455,
           524.9121178296263,
           629.8663657648515,
           1407.5566115137426,
           11646.338347114213
          ]
         },
         "name": "",
         "parents": [
          "Aborto",
          "Abuso de confianza",
          "Abuso sexual",
          "Acoso sexual",
          "Allanamiento de morada",
          "Amenazas",
          "Feminicidio",
          "Homicidio culposo",
          "Homicidio doloso",
          "Lesiones culposas",
          "Lesiones dolosas",
          "Feminicidio",
          "Homicidio culposo",
          "Homicidio doloso",
          "Lesiones culposas",
          "Lesiones dolosas",
          "Feminicidio",
          "Homicidio culposo",
          "Homicidio doloso",
          "Lesiones culposas",
          "Lesiones dolosas",
          "Otros robos",
          "Robo a casa habitación",
          "Robo a institución bancaria",
          "Robo a negocio",
          "Robo a transeúnte en espacio abierto al público",
          "Robo a transeúnte en vía pública",
          "Robo a transportista",
          "Robo de autopartes",
          "Robo de ganado",
          "Robo en transporte individual",
          "Robo en transporte público colectivo",
          "Robo en transporte público individual",
          "Contra el medio ambiente",
          "Corrupción de menores",
          "Daño a la propiedad",
          "Delitos cometidos por servidores públicos",
          "Despojo",
          "Electorales",
          "Homicidio culposo",
          "Lesiones culposas",
          "Evasión de presos",
          "Extorsión",
          "Falsedad",
          "Falsificación",
          "Fraude",
          "Hostigamiento sexual",
          "Incesto",
          "Incumplimiento de obligaciones de asistencia familiar",
          "Narcomenudeo",
          "Feminicidio",
          "Homicidio culposo",
          "Homicidio doloso",
          "Lesiones culposas",
          "Lesiones dolosas",
          "Secuestro",
          "Otros delitos contra el patrimonio",
          "Otros delitos contra la familia",
          "Otros delitos contra la sociedad",
          "Otros delitos del Fuero Común",
          "Otros delitos que atentan contra la libertad personal",
          "Otros delitos que atentan contra la libertad y la seguridad sexual",
          "Otros delitos que atentan contra la vida y la integridad corporal",
          "Rapto",
          "Robo de maquinaria",
          "Robo de maquinaria",
          "Robo de vehículo automotor",
          "Robo de vehículo automotor",
          "Robo de vehículo automotor",
          "Robo de vehículo automotor",
          "Robo de maquinaria",
          "Robo de maquinaria",
          "Robo de vehículo automotor",
          "Robo de vehículo automotor",
          "Robo de maquinaria",
          "Robo de maquinaria",
          "Secuestro",
          "Secuestro",
          "Secuestro",
          "Secuestro",
          "Otros robos",
          "Robo a casa habitación",
          "Robo a institución bancaria",
          "Robo a negocio",
          "Robo a transeúnte en espacio abierto al público",
          "Robo a transeúnte en vía pública",
          "Robo a transportista",
          "Robo de autopartes",
          "Robo de ganado",
          "Robo en transporte individual",
          "Robo en transporte público colectivo",
          "Robo en transporte público individual",
          "Trata de personas",
          "Tráfico de menores",
          "Violación equiparada",
          "Violación simple",
          "Violencia de género en todas sus modalidades distinta a la violencia familiar",
          "Violencia familiar",
          "",
          "",
          "",
          "",
          "",
          "",
          "",
          "",
          "",
          "",
          "",
          "",
          "",
          "",
          "",
          "",
          "",
          "",
          "",
          "",
          "",
          "",
          "",
          "",
          "",
          "",
          "",
          "",
          "",
          "",
          "",
          "",
          "",
          "",
          "",
          "",
          "",
          "",
          "",
          "",
          "",
          "",
          "",
          "",
          "",
          "",
          "",
          "",
          "",
          "",
          "",
          "",
          "",
          "",
          ""
         ],
         "type": "sunburst",
         "values": [
          5717,
          224606,
          193591,
          44306,
          116727,
          882644,
          1508,
          139,
          22059,
          2007,
          83408,
          1577,
          992,
          149201,
          3267,
          75244,
          3418,
          26396,
          42395,
          116857,
          1004671,
          344667,
          64933,
          2144,
          384718,
          22212,
          496745,
          71116,
          3856,
          2490,
          55227,
          95994,
          16035,
          16814,
          19656,
          1146190,
          158894,
          235444,
          11110,
          101686,
          245441,
          1000,
          67563,
          29467,
          142557,
          672840,
          14781,
          184,
          206013,
          542425,
          554,
          6222,
          6674,
          64930,
          173424,
          291,
          96721,
          104616,
          51201,
          1588593,
          163229,
          66258,
          73302,
          1365,
          400,
          8248,
          415239,
          779263,
          46,
          185,
          1032,
          3479,
          75329,
          193167,
          429,
          623,
          750,
          679,
          6360,
          181,
          1384740,
          595518,
          1217,
          435395,
          15012,
          160622,
          15055,
          143575,
          43181,
          63615,
          32939,
          5212,
          4558,
          615,
          36731,
          112329,
          29252,
          1781091,
          5717,
          224606,
          193591,
          44306,
          116727,
          882644,
          16814,
          19656,
          1146190,
          158894,
          235444,
          11110,
          1000,
          67563,
          29467,
          142557,
          7057,
          672840,
          135435,
          220329,
          14781,
          184,
          206013,
          432502,
          1336747,
          542425,
          96721,
          104616,
          51201,
          1588593,
          163229,
          66258,
          73302,
          1729407,
          1365,
          660451,
          3361,
          820113,
          37224,
          657367,
          86171,
          147431,
          45671,
          14211,
          1463229,
          118842,
          128933,
          21247,
          8261,
          4558,
          615,
          36731,
          112329,
          29252,
          1781091
         ]
        }
       ],
       "layout": {
        "coloraxis": {
         "colorbar": {
          "title": {
           "text": "Recuento"
          }
         },
         "colorscale": [
          [
           0,
           "rgb(103,0,31)"
          ],
          [
           0.1,
           "rgb(178,24,43)"
          ],
          [
           0.2,
           "rgb(214,96,77)"
          ],
          [
           0.3,
           "rgb(244,165,130)"
          ],
          [
           0.4,
           "rgb(253,219,199)"
          ],
          [
           0.5,
           "rgb(247,247,247)"
          ],
          [
           0.6,
           "rgb(209,229,240)"
          ],
          [
           0.7,
           "rgb(146,197,222)"
          ],
          [
           0.8,
           "rgb(67,147,195)"
          ],
          [
           0.9,
           "rgb(33,102,172)"
          ],
          [
           1,
           "rgb(5,48,97)"
          ]
         ]
        },
        "legend": {
         "tracegroupgap": 0
        },
        "margin": {
         "t": 60
        },
        "template": {
         "data": {
          "bar": [
           {
            "error_x": {
             "color": "#2a3f5f"
            },
            "error_y": {
             "color": "#2a3f5f"
            },
            "marker": {
             "line": {
              "color": "#E5ECF6",
              "width": 0.5
             },
             "pattern": {
              "fillmode": "overlay",
              "size": 10,
              "solidity": 0.2
             }
            },
            "type": "bar"
           }
          ],
          "barpolar": [
           {
            "marker": {
             "line": {
              "color": "#E5ECF6",
              "width": 0.5
             },
             "pattern": {
              "fillmode": "overlay",
              "size": 10,
              "solidity": 0.2
             }
            },
            "type": "barpolar"
           }
          ],
          "carpet": [
           {
            "aaxis": {
             "endlinecolor": "#2a3f5f",
             "gridcolor": "white",
             "linecolor": "white",
             "minorgridcolor": "white",
             "startlinecolor": "#2a3f5f"
            },
            "baxis": {
             "endlinecolor": "#2a3f5f",
             "gridcolor": "white",
             "linecolor": "white",
             "minorgridcolor": "white",
             "startlinecolor": "#2a3f5f"
            },
            "type": "carpet"
           }
          ],
          "choropleth": [
           {
            "colorbar": {
             "outlinewidth": 0,
             "ticks": ""
            },
            "type": "choropleth"
           }
          ],
          "contour": [
           {
            "colorbar": {
             "outlinewidth": 0,
             "ticks": ""
            },
            "colorscale": [
             [
              0,
              "#0d0887"
             ],
             [
              0.1111111111111111,
              "#46039f"
             ],
             [
              0.2222222222222222,
              "#7201a8"
             ],
             [
              0.3333333333333333,
              "#9c179e"
             ],
             [
              0.4444444444444444,
              "#bd3786"
             ],
             [
              0.5555555555555556,
              "#d8576b"
             ],
             [
              0.6666666666666666,
              "#ed7953"
             ],
             [
              0.7777777777777778,
              "#fb9f3a"
             ],
             [
              0.8888888888888888,
              "#fdca26"
             ],
             [
              1,
              "#f0f921"
             ]
            ],
            "type": "contour"
           }
          ],
          "contourcarpet": [
           {
            "colorbar": {
             "outlinewidth": 0,
             "ticks": ""
            },
            "type": "contourcarpet"
           }
          ],
          "heatmap": [
           {
            "colorbar": {
             "outlinewidth": 0,
             "ticks": ""
            },
            "colorscale": [
             [
              0,
              "#0d0887"
             ],
             [
              0.1111111111111111,
              "#46039f"
             ],
             [
              0.2222222222222222,
              "#7201a8"
             ],
             [
              0.3333333333333333,
              "#9c179e"
             ],
             [
              0.4444444444444444,
              "#bd3786"
             ],
             [
              0.5555555555555556,
              "#d8576b"
             ],
             [
              0.6666666666666666,
              "#ed7953"
             ],
             [
              0.7777777777777778,
              "#fb9f3a"
             ],
             [
              0.8888888888888888,
              "#fdca26"
             ],
             [
              1,
              "#f0f921"
             ]
            ],
            "type": "heatmap"
           }
          ],
          "heatmapgl": [
           {
            "colorbar": {
             "outlinewidth": 0,
             "ticks": ""
            },
            "colorscale": [
             [
              0,
              "#0d0887"
             ],
             [
              0.1111111111111111,
              "#46039f"
             ],
             [
              0.2222222222222222,
              "#7201a8"
             ],
             [
              0.3333333333333333,
              "#9c179e"
             ],
             [
              0.4444444444444444,
              "#bd3786"
             ],
             [
              0.5555555555555556,
              "#d8576b"
             ],
             [
              0.6666666666666666,
              "#ed7953"
             ],
             [
              0.7777777777777778,
              "#fb9f3a"
             ],
             [
              0.8888888888888888,
              "#fdca26"
             ],
             [
              1,
              "#f0f921"
             ]
            ],
            "type": "heatmapgl"
           }
          ],
          "histogram": [
           {
            "marker": {
             "pattern": {
              "fillmode": "overlay",
              "size": 10,
              "solidity": 0.2
             }
            },
            "type": "histogram"
           }
          ],
          "histogram2d": [
           {
            "colorbar": {
             "outlinewidth": 0,
             "ticks": ""
            },
            "colorscale": [
             [
              0,
              "#0d0887"
             ],
             [
              0.1111111111111111,
              "#46039f"
             ],
             [
              0.2222222222222222,
              "#7201a8"
             ],
             [
              0.3333333333333333,
              "#9c179e"
             ],
             [
              0.4444444444444444,
              "#bd3786"
             ],
             [
              0.5555555555555556,
              "#d8576b"
             ],
             [
              0.6666666666666666,
              "#ed7953"
             ],
             [
              0.7777777777777778,
              "#fb9f3a"
             ],
             [
              0.8888888888888888,
              "#fdca26"
             ],
             [
              1,
              "#f0f921"
             ]
            ],
            "type": "histogram2d"
           }
          ],
          "histogram2dcontour": [
           {
            "colorbar": {
             "outlinewidth": 0,
             "ticks": ""
            },
            "colorscale": [
             [
              0,
              "#0d0887"
             ],
             [
              0.1111111111111111,
              "#46039f"
             ],
             [
              0.2222222222222222,
              "#7201a8"
             ],
             [
              0.3333333333333333,
              "#9c179e"
             ],
             [
              0.4444444444444444,
              "#bd3786"
             ],
             [
              0.5555555555555556,
              "#d8576b"
             ],
             [
              0.6666666666666666,
              "#ed7953"
             ],
             [
              0.7777777777777778,
              "#fb9f3a"
             ],
             [
              0.8888888888888888,
              "#fdca26"
             ],
             [
              1,
              "#f0f921"
             ]
            ],
            "type": "histogram2dcontour"
           }
          ],
          "mesh3d": [
           {
            "colorbar": {
             "outlinewidth": 0,
             "ticks": ""
            },
            "type": "mesh3d"
           }
          ],
          "parcoords": [
           {
            "line": {
             "colorbar": {
              "outlinewidth": 0,
              "ticks": ""
             }
            },
            "type": "parcoords"
           }
          ],
          "pie": [
           {
            "automargin": true,
            "type": "pie"
           }
          ],
          "scatter": [
           {
            "fillpattern": {
             "fillmode": "overlay",
             "size": 10,
             "solidity": 0.2
            },
            "type": "scatter"
           }
          ],
          "scatter3d": [
           {
            "line": {
             "colorbar": {
              "outlinewidth": 0,
              "ticks": ""
             }
            },
            "marker": {
             "colorbar": {
              "outlinewidth": 0,
              "ticks": ""
             }
            },
            "type": "scatter3d"
           }
          ],
          "scattercarpet": [
           {
            "marker": {
             "colorbar": {
              "outlinewidth": 0,
              "ticks": ""
             }
            },
            "type": "scattercarpet"
           }
          ],
          "scattergeo": [
           {
            "marker": {
             "colorbar": {
              "outlinewidth": 0,
              "ticks": ""
             }
            },
            "type": "scattergeo"
           }
          ],
          "scattergl": [
           {
            "marker": {
             "colorbar": {
              "outlinewidth": 0,
              "ticks": ""
             }
            },
            "type": "scattergl"
           }
          ],
          "scattermapbox": [
           {
            "marker": {
             "colorbar": {
              "outlinewidth": 0,
              "ticks": ""
             }
            },
            "type": "scattermapbox"
           }
          ],
          "scatterpolar": [
           {
            "marker": {
             "colorbar": {
              "outlinewidth": 0,
              "ticks": ""
             }
            },
            "type": "scatterpolar"
           }
          ],
          "scatterpolargl": [
           {
            "marker": {
             "colorbar": {
              "outlinewidth": 0,
              "ticks": ""
             }
            },
            "type": "scatterpolargl"
           }
          ],
          "scatterternary": [
           {
            "marker": {
             "colorbar": {
              "outlinewidth": 0,
              "ticks": ""
             }
            },
            "type": "scatterternary"
           }
          ],
          "surface": [
           {
            "colorbar": {
             "outlinewidth": 0,
             "ticks": ""
            },
            "colorscale": [
             [
              0,
              "#0d0887"
             ],
             [
              0.1111111111111111,
              "#46039f"
             ],
             [
              0.2222222222222222,
              "#7201a8"
             ],
             [
              0.3333333333333333,
              "#9c179e"
             ],
             [
              0.4444444444444444,
              "#bd3786"
             ],
             [
              0.5555555555555556,
              "#d8576b"
             ],
             [
              0.6666666666666666,
              "#ed7953"
             ],
             [
              0.7777777777777778,
              "#fb9f3a"
             ],
             [
              0.8888888888888888,
              "#fdca26"
             ],
             [
              1,
              "#f0f921"
             ]
            ],
            "type": "surface"
           }
          ],
          "table": [
           {
            "cells": {
             "fill": {
              "color": "#EBF0F8"
             },
             "line": {
              "color": "white"
             }
            },
            "header": {
             "fill": {
              "color": "#C8D4E3"
             },
             "line": {
              "color": "white"
             }
            },
            "type": "table"
           }
          ]
         },
         "layout": {
          "annotationdefaults": {
           "arrowcolor": "#2a3f5f",
           "arrowhead": 0,
           "arrowwidth": 1
          },
          "autotypenumbers": "strict",
          "coloraxis": {
           "colorbar": {
            "outlinewidth": 0,
            "ticks": ""
           }
          },
          "colorscale": {
           "diverging": [
            [
             0,
             "#8e0152"
            ],
            [
             0.1,
             "#c51b7d"
            ],
            [
             0.2,
             "#de77ae"
            ],
            [
             0.3,
             "#f1b6da"
            ],
            [
             0.4,
             "#fde0ef"
            ],
            [
             0.5,
             "#f7f7f7"
            ],
            [
             0.6,
             "#e6f5d0"
            ],
            [
             0.7,
             "#b8e186"
            ],
            [
             0.8,
             "#7fbc41"
            ],
            [
             0.9,
             "#4d9221"
            ],
            [
             1,
             "#276419"
            ]
           ],
           "sequential": [
            [
             0,
             "#0d0887"
            ],
            [
             0.1111111111111111,
             "#46039f"
            ],
            [
             0.2222222222222222,
             "#7201a8"
            ],
            [
             0.3333333333333333,
             "#9c179e"
            ],
            [
             0.4444444444444444,
             "#bd3786"
            ],
            [
             0.5555555555555556,
             "#d8576b"
            ],
            [
             0.6666666666666666,
             "#ed7953"
            ],
            [
             0.7777777777777778,
             "#fb9f3a"
            ],
            [
             0.8888888888888888,
             "#fdca26"
            ],
            [
             1,
             "#f0f921"
            ]
           ],
           "sequentialminus": [
            [
             0,
             "#0d0887"
            ],
            [
             0.1111111111111111,
             "#46039f"
            ],
            [
             0.2222222222222222,
             "#7201a8"
            ],
            [
             0.3333333333333333,
             "#9c179e"
            ],
            [
             0.4444444444444444,
             "#bd3786"
            ],
            [
             0.5555555555555556,
             "#d8576b"
            ],
            [
             0.6666666666666666,
             "#ed7953"
            ],
            [
             0.7777777777777778,
             "#fb9f3a"
            ],
            [
             0.8888888888888888,
             "#fdca26"
            ],
            [
             1,
             "#f0f921"
            ]
           ]
          },
          "colorway": [
           "#636efa",
           "#EF553B",
           "#00cc96",
           "#ab63fa",
           "#FFA15A",
           "#19d3f3",
           "#FF6692",
           "#B6E880",
           "#FF97FF",
           "#FECB52"
          ],
          "font": {
           "color": "#2a3f5f"
          },
          "geo": {
           "bgcolor": "white",
           "lakecolor": "white",
           "landcolor": "#E5ECF6",
           "showlakes": true,
           "showland": true,
           "subunitcolor": "white"
          },
          "hoverlabel": {
           "align": "left"
          },
          "hovermode": "closest",
          "mapbox": {
           "style": "light"
          },
          "paper_bgcolor": "white",
          "plot_bgcolor": "#E5ECF6",
          "polar": {
           "angularaxis": {
            "gridcolor": "white",
            "linecolor": "white",
            "ticks": ""
           },
           "bgcolor": "#E5ECF6",
           "radialaxis": {
            "gridcolor": "white",
            "linecolor": "white",
            "ticks": ""
           }
          },
          "scene": {
           "xaxis": {
            "backgroundcolor": "#E5ECF6",
            "gridcolor": "white",
            "gridwidth": 2,
            "linecolor": "white",
            "showbackground": true,
            "ticks": "",
            "zerolinecolor": "white"
           },
           "yaxis": {
            "backgroundcolor": "#E5ECF6",
            "gridcolor": "white",
            "gridwidth": 2,
            "linecolor": "white",
            "showbackground": true,
            "ticks": "",
            "zerolinecolor": "white"
           },
           "zaxis": {
            "backgroundcolor": "#E5ECF6",
            "gridcolor": "white",
            "gridwidth": 2,
            "linecolor": "white",
            "showbackground": true,
            "ticks": "",
            "zerolinecolor": "white"
           }
          },
          "shapedefaults": {
           "line": {
            "color": "#2a3f5f"
           }
          },
          "ternary": {
           "aaxis": {
            "gridcolor": "white",
            "linecolor": "white",
            "ticks": ""
           },
           "baxis": {
            "gridcolor": "white",
            "linecolor": "white",
            "ticks": ""
           },
           "bgcolor": "#E5ECF6",
           "caxis": {
            "gridcolor": "white",
            "linecolor": "white",
            "ticks": ""
           }
          },
          "title": {
           "x": 0.05
          },
          "xaxis": {
           "automargin": true,
           "gridcolor": "white",
           "linecolor": "white",
           "ticks": "",
           "title": {
            "standoff": 15
           },
           "zerolinecolor": "white",
           "zerolinewidth": 2
          },
          "yaxis": {
           "automargin": true,
           "gridcolor": "white",
           "linecolor": "white",
           "ticks": "",
           "title": {
            "standoff": 15
           },
           "zerolinecolor": "white",
           "zerolinewidth": 2
          }
         }
        },
        "title": {
         "text": "Subtipo de delito"
        },
        "uniformtext": {
         "minsize": 10,
         "mode": "hide"
        }
       }
      }
     },
     "metadata": {},
     "output_type": "display_data"
    }
   ],
   "source": [
    "fig = px.sunburst(df_1, path=['Bien jurídico afectado', 'Tipo de delito'], values='Recuento',maxdepth=2)\n",
    "\n",
    "# fig.update_layout(margin = dict(t = 10, l = 10, r = 10, b = 10))    #, textinfo='percent+label') #Lo hace mas grande\n",
    "#fig.update_traces(textposition='outside', textinfo='percent+label')\n",
    "fig.update_layout(title_text='Desgloce Bien Jurídico Afectado')\n",
    "fig.update_layout(uniformtext=dict(minsize=10, mode='hide'))\n",
    "fig.show()\n",
    "\n",
    "fig1 = px.sunburst(df_1, path=['Subtipo de delito','Modalidad'], values='Recuento', color= \"Recuento\", color_continuous_scale='RdBu' ) #Color lle da el gradiente\n",
    "#fig1.update_layout(margin = dict(t = 10, l = 10, r = 10, b = 10))#, textinfo='percent+label')\n",
    "fig1.update_layout(uniformtext=dict(minsize=10, mode='hide'))\n",
    "fig1.update_layout(title_text='Subtipo de delito')\n",
    "#fig.update_traces(textposition='outside', textinfo='percent+label')\n",
    "fig1.show()"
   ]
  },
  {
   "cell_type": "code",
   "execution_count": 15,
   "metadata": {},
   "outputs": [
    {
     "data": {
      "application/vnd.plotly.v1+json": {
       "config": {
        "plotlyServerURL": "https://plot.ly"
       },
       "data": [
        {
         "alignmentgroup": "True",
         "cliponaxis": false,
         "hovertemplate": "Bien jurídico afectado=%{x}<br>Recuento por estados=%{marker.color}<extra></extra>",
         "legendgroup": "",
         "marker": {
          "color": [
           8377022,
           2120972,
           468180,
           75415,
           2211089,
           173470,
           3490231
          ],
          "coloraxis": "coloraxis",
          "line": {
           "color": "rgb(8,48,107)",
           "width": 1.5
          },
          "pattern": {
           "shape": ""
          }
         },
         "name": "",
         "offsetgroup": "",
         "opacity": 0.8,
         "orientation": "v",
         "showlegend": false,
         "text": [
          8377022,
          2120972,
          468180,
          75415,
          2211089,
          173470,
          3490231
         ],
         "textangle": 0,
         "textfont": {
          "size": 12
         },
         "textposition": "outside",
         "texttemplate": "%{y:.2s}",
         "type": "bar",
         "x": [
          "El patrimonio",
          "La familia",
          "La libertad y la seguridad sexual",
          "La sociedad",
          "La vida y la Integridad corporal",
          "Libertad personal",
          "Otros bienes jurídicos afectados (del fuero común)"
         ],
         "xaxis": "x",
         "y": [
          8377022,
          2120972,
          468180,
          75415,
          2211089,
          173470,
          3490231
         ],
         "yaxis": "y"
        }
       ],
       "layout": {
        "barmode": "relative",
        "coloraxis": {
         "colorbar": {
          "title": {
           "text": "Recuento por estados"
          }
         },
         "colorscale": [
          [
           0,
           "rgb(228, 241, 225)"
          ],
          [
           0.16666666666666666,
           "rgb(180, 217, 204)"
          ],
          [
           0.3333333333333333,
           "rgb(137, 192, 182)"
          ],
          [
           0.5,
           "rgb(99, 166, 160)"
          ],
          [
           0.6666666666666666,
           "rgb(68, 140, 138)"
          ],
          [
           0.8333333333333334,
           "rgb(40, 114, 116)"
          ],
          [
           1,
           "rgb(13, 88, 95)"
          ]
         ]
        },
        "height": 500,
        "legend": {
         "tracegroupgap": 0
        },
        "margin": {
         "t": 60
        },
        "template": {
         "data": {
          "bar": [
           {
            "error_x": {
             "color": "#2a3f5f"
            },
            "error_y": {
             "color": "#2a3f5f"
            },
            "marker": {
             "line": {
              "color": "#E5ECF6",
              "width": 0.5
             },
             "pattern": {
              "fillmode": "overlay",
              "size": 10,
              "solidity": 0.2
             }
            },
            "type": "bar"
           }
          ],
          "barpolar": [
           {
            "marker": {
             "line": {
              "color": "#E5ECF6",
              "width": 0.5
             },
             "pattern": {
              "fillmode": "overlay",
              "size": 10,
              "solidity": 0.2
             }
            },
            "type": "barpolar"
           }
          ],
          "carpet": [
           {
            "aaxis": {
             "endlinecolor": "#2a3f5f",
             "gridcolor": "white",
             "linecolor": "white",
             "minorgridcolor": "white",
             "startlinecolor": "#2a3f5f"
            },
            "baxis": {
             "endlinecolor": "#2a3f5f",
             "gridcolor": "white",
             "linecolor": "white",
             "minorgridcolor": "white",
             "startlinecolor": "#2a3f5f"
            },
            "type": "carpet"
           }
          ],
          "choropleth": [
           {
            "colorbar": {
             "outlinewidth": 0,
             "ticks": ""
            },
            "type": "choropleth"
           }
          ],
          "contour": [
           {
            "colorbar": {
             "outlinewidth": 0,
             "ticks": ""
            },
            "colorscale": [
             [
              0,
              "#0d0887"
             ],
             [
              0.1111111111111111,
              "#46039f"
             ],
             [
              0.2222222222222222,
              "#7201a8"
             ],
             [
              0.3333333333333333,
              "#9c179e"
             ],
             [
              0.4444444444444444,
              "#bd3786"
             ],
             [
              0.5555555555555556,
              "#d8576b"
             ],
             [
              0.6666666666666666,
              "#ed7953"
             ],
             [
              0.7777777777777778,
              "#fb9f3a"
             ],
             [
              0.8888888888888888,
              "#fdca26"
             ],
             [
              1,
              "#f0f921"
             ]
            ],
            "type": "contour"
           }
          ],
          "contourcarpet": [
           {
            "colorbar": {
             "outlinewidth": 0,
             "ticks": ""
            },
            "type": "contourcarpet"
           }
          ],
          "heatmap": [
           {
            "colorbar": {
             "outlinewidth": 0,
             "ticks": ""
            },
            "colorscale": [
             [
              0,
              "#0d0887"
             ],
             [
              0.1111111111111111,
              "#46039f"
             ],
             [
              0.2222222222222222,
              "#7201a8"
             ],
             [
              0.3333333333333333,
              "#9c179e"
             ],
             [
              0.4444444444444444,
              "#bd3786"
             ],
             [
              0.5555555555555556,
              "#d8576b"
             ],
             [
              0.6666666666666666,
              "#ed7953"
             ],
             [
              0.7777777777777778,
              "#fb9f3a"
             ],
             [
              0.8888888888888888,
              "#fdca26"
             ],
             [
              1,
              "#f0f921"
             ]
            ],
            "type": "heatmap"
           }
          ],
          "heatmapgl": [
           {
            "colorbar": {
             "outlinewidth": 0,
             "ticks": ""
            },
            "colorscale": [
             [
              0,
              "#0d0887"
             ],
             [
              0.1111111111111111,
              "#46039f"
             ],
             [
              0.2222222222222222,
              "#7201a8"
             ],
             [
              0.3333333333333333,
              "#9c179e"
             ],
             [
              0.4444444444444444,
              "#bd3786"
             ],
             [
              0.5555555555555556,
              "#d8576b"
             ],
             [
              0.6666666666666666,
              "#ed7953"
             ],
             [
              0.7777777777777778,
              "#fb9f3a"
             ],
             [
              0.8888888888888888,
              "#fdca26"
             ],
             [
              1,
              "#f0f921"
             ]
            ],
            "type": "heatmapgl"
           }
          ],
          "histogram": [
           {
            "marker": {
             "pattern": {
              "fillmode": "overlay",
              "size": 10,
              "solidity": 0.2
             }
            },
            "type": "histogram"
           }
          ],
          "histogram2d": [
           {
            "colorbar": {
             "outlinewidth": 0,
             "ticks": ""
            },
            "colorscale": [
             [
              0,
              "#0d0887"
             ],
             [
              0.1111111111111111,
              "#46039f"
             ],
             [
              0.2222222222222222,
              "#7201a8"
             ],
             [
              0.3333333333333333,
              "#9c179e"
             ],
             [
              0.4444444444444444,
              "#bd3786"
             ],
             [
              0.5555555555555556,
              "#d8576b"
             ],
             [
              0.6666666666666666,
              "#ed7953"
             ],
             [
              0.7777777777777778,
              "#fb9f3a"
             ],
             [
              0.8888888888888888,
              "#fdca26"
             ],
             [
              1,
              "#f0f921"
             ]
            ],
            "type": "histogram2d"
           }
          ],
          "histogram2dcontour": [
           {
            "colorbar": {
             "outlinewidth": 0,
             "ticks": ""
            },
            "colorscale": [
             [
              0,
              "#0d0887"
             ],
             [
              0.1111111111111111,
              "#46039f"
             ],
             [
              0.2222222222222222,
              "#7201a8"
             ],
             [
              0.3333333333333333,
              "#9c179e"
             ],
             [
              0.4444444444444444,
              "#bd3786"
             ],
             [
              0.5555555555555556,
              "#d8576b"
             ],
             [
              0.6666666666666666,
              "#ed7953"
             ],
             [
              0.7777777777777778,
              "#fb9f3a"
             ],
             [
              0.8888888888888888,
              "#fdca26"
             ],
             [
              1,
              "#f0f921"
             ]
            ],
            "type": "histogram2dcontour"
           }
          ],
          "mesh3d": [
           {
            "colorbar": {
             "outlinewidth": 0,
             "ticks": ""
            },
            "type": "mesh3d"
           }
          ],
          "parcoords": [
           {
            "line": {
             "colorbar": {
              "outlinewidth": 0,
              "ticks": ""
             }
            },
            "type": "parcoords"
           }
          ],
          "pie": [
           {
            "automargin": true,
            "type": "pie"
           }
          ],
          "scatter": [
           {
            "fillpattern": {
             "fillmode": "overlay",
             "size": 10,
             "solidity": 0.2
            },
            "type": "scatter"
           }
          ],
          "scatter3d": [
           {
            "line": {
             "colorbar": {
              "outlinewidth": 0,
              "ticks": ""
             }
            },
            "marker": {
             "colorbar": {
              "outlinewidth": 0,
              "ticks": ""
             }
            },
            "type": "scatter3d"
           }
          ],
          "scattercarpet": [
           {
            "marker": {
             "colorbar": {
              "outlinewidth": 0,
              "ticks": ""
             }
            },
            "type": "scattercarpet"
           }
          ],
          "scattergeo": [
           {
            "marker": {
             "colorbar": {
              "outlinewidth": 0,
              "ticks": ""
             }
            },
            "type": "scattergeo"
           }
          ],
          "scattergl": [
           {
            "marker": {
             "colorbar": {
              "outlinewidth": 0,
              "ticks": ""
             }
            },
            "type": "scattergl"
           }
          ],
          "scattermapbox": [
           {
            "marker": {
             "colorbar": {
              "outlinewidth": 0,
              "ticks": ""
             }
            },
            "type": "scattermapbox"
           }
          ],
          "scatterpolar": [
           {
            "marker": {
             "colorbar": {
              "outlinewidth": 0,
              "ticks": ""
             }
            },
            "type": "scatterpolar"
           }
          ],
          "scatterpolargl": [
           {
            "marker": {
             "colorbar": {
              "outlinewidth": 0,
              "ticks": ""
             }
            },
            "type": "scatterpolargl"
           }
          ],
          "scatterternary": [
           {
            "marker": {
             "colorbar": {
              "outlinewidth": 0,
              "ticks": ""
             }
            },
            "type": "scatterternary"
           }
          ],
          "surface": [
           {
            "colorbar": {
             "outlinewidth": 0,
             "ticks": ""
            },
            "colorscale": [
             [
              0,
              "#0d0887"
             ],
             [
              0.1111111111111111,
              "#46039f"
             ],
             [
              0.2222222222222222,
              "#7201a8"
             ],
             [
              0.3333333333333333,
              "#9c179e"
             ],
             [
              0.4444444444444444,
              "#bd3786"
             ],
             [
              0.5555555555555556,
              "#d8576b"
             ],
             [
              0.6666666666666666,
              "#ed7953"
             ],
             [
              0.7777777777777778,
              "#fb9f3a"
             ],
             [
              0.8888888888888888,
              "#fdca26"
             ],
             [
              1,
              "#f0f921"
             ]
            ],
            "type": "surface"
           }
          ],
          "table": [
           {
            "cells": {
             "fill": {
              "color": "#EBF0F8"
             },
             "line": {
              "color": "white"
             }
            },
            "header": {
             "fill": {
              "color": "#C8D4E3"
             },
             "line": {
              "color": "white"
             }
            },
            "type": "table"
           }
          ]
         },
         "layout": {
          "annotationdefaults": {
           "arrowcolor": "#2a3f5f",
           "arrowhead": 0,
           "arrowwidth": 1
          },
          "autotypenumbers": "strict",
          "coloraxis": {
           "colorbar": {
            "outlinewidth": 0,
            "ticks": ""
           }
          },
          "colorscale": {
           "diverging": [
            [
             0,
             "#8e0152"
            ],
            [
             0.1,
             "#c51b7d"
            ],
            [
             0.2,
             "#de77ae"
            ],
            [
             0.3,
             "#f1b6da"
            ],
            [
             0.4,
             "#fde0ef"
            ],
            [
             0.5,
             "#f7f7f7"
            ],
            [
             0.6,
             "#e6f5d0"
            ],
            [
             0.7,
             "#b8e186"
            ],
            [
             0.8,
             "#7fbc41"
            ],
            [
             0.9,
             "#4d9221"
            ],
            [
             1,
             "#276419"
            ]
           ],
           "sequential": [
            [
             0,
             "#0d0887"
            ],
            [
             0.1111111111111111,
             "#46039f"
            ],
            [
             0.2222222222222222,
             "#7201a8"
            ],
            [
             0.3333333333333333,
             "#9c179e"
            ],
            [
             0.4444444444444444,
             "#bd3786"
            ],
            [
             0.5555555555555556,
             "#d8576b"
            ],
            [
             0.6666666666666666,
             "#ed7953"
            ],
            [
             0.7777777777777778,
             "#fb9f3a"
            ],
            [
             0.8888888888888888,
             "#fdca26"
            ],
            [
             1,
             "#f0f921"
            ]
           ],
           "sequentialminus": [
            [
             0,
             "#0d0887"
            ],
            [
             0.1111111111111111,
             "#46039f"
            ],
            [
             0.2222222222222222,
             "#7201a8"
            ],
            [
             0.3333333333333333,
             "#9c179e"
            ],
            [
             0.4444444444444444,
             "#bd3786"
            ],
            [
             0.5555555555555556,
             "#d8576b"
            ],
            [
             0.6666666666666666,
             "#ed7953"
            ],
            [
             0.7777777777777778,
             "#fb9f3a"
            ],
            [
             0.8888888888888888,
             "#fdca26"
            ],
            [
             1,
             "#f0f921"
            ]
           ]
          },
          "colorway": [
           "#636efa",
           "#EF553B",
           "#00cc96",
           "#ab63fa",
           "#FFA15A",
           "#19d3f3",
           "#FF6692",
           "#B6E880",
           "#FF97FF",
           "#FECB52"
          ],
          "font": {
           "color": "#2a3f5f"
          },
          "geo": {
           "bgcolor": "white",
           "lakecolor": "white",
           "landcolor": "#E5ECF6",
           "showlakes": true,
           "showland": true,
           "subunitcolor": "white"
          },
          "hoverlabel": {
           "align": "left"
          },
          "hovermode": "closest",
          "mapbox": {
           "style": "light"
          },
          "paper_bgcolor": "white",
          "plot_bgcolor": "#E5ECF6",
          "polar": {
           "angularaxis": {
            "gridcolor": "white",
            "linecolor": "white",
            "ticks": ""
           },
           "bgcolor": "#E5ECF6",
           "radialaxis": {
            "gridcolor": "white",
            "linecolor": "white",
            "ticks": ""
           }
          },
          "scene": {
           "xaxis": {
            "backgroundcolor": "#E5ECF6",
            "gridcolor": "white",
            "gridwidth": 2,
            "linecolor": "white",
            "showbackground": true,
            "ticks": "",
            "zerolinecolor": "white"
           },
           "yaxis": {
            "backgroundcolor": "#E5ECF6",
            "gridcolor": "white",
            "gridwidth": 2,
            "linecolor": "white",
            "showbackground": true,
            "ticks": "",
            "zerolinecolor": "white"
           },
           "zaxis": {
            "backgroundcolor": "#E5ECF6",
            "gridcolor": "white",
            "gridwidth": 2,
            "linecolor": "white",
            "showbackground": true,
            "ticks": "",
            "zerolinecolor": "white"
           }
          },
          "shapedefaults": {
           "line": {
            "color": "#2a3f5f"
           }
          },
          "ternary": {
           "aaxis": {
            "gridcolor": "white",
            "linecolor": "white",
            "ticks": ""
           },
           "baxis": {
            "gridcolor": "white",
            "linecolor": "white",
            "ticks": ""
           },
           "bgcolor": "#E5ECF6",
           "caxis": {
            "gridcolor": "white",
            "linecolor": "white",
            "ticks": ""
           }
          },
          "title": {
           "x": 0.05
          },
          "xaxis": {
           "automargin": true,
           "gridcolor": "white",
           "linecolor": "white",
           "ticks": "",
           "title": {
            "standoff": 15
           },
           "zerolinecolor": "white",
           "zerolinewidth": 2
          },
          "yaxis": {
           "automargin": true,
           "gridcolor": "white",
           "linecolor": "white",
           "ticks": "",
           "title": {
            "standoff": 15
           },
           "zerolinecolor": "white",
           "zerolinewidth": 2
          }
         }
        },
        "title": {
         "text": "Incidencia delictiva por bien jurídico afectado"
        },
        "xaxis": {
         "anchor": "y",
         "categoryorder": "total descending",
         "domain": [
          0,
          1
         ],
         "title": {
          "text": "Recuento"
         }
        },
        "yaxis": {
         "anchor": "x",
         "domain": [
          0,
          1
         ],
         "title": {
          "text": "Bien jurídico afectado"
         }
        }
       }
      }
     },
     "metadata": {},
     "output_type": "display_data"
    }
   ],
   "source": [
    "#print(bien_recuento) simon\n",
    "fig1 = px.bar(bien_recuento, x='Bien jurídico afectado', y='Recuento', text='Recuento', text_auto='.2s',\n",
    "              color='Recuento', labels={'Recuento': 'Recuento por estados'},\n",
    "              color_continuous_scale='mint')  \n",
    "fig1.update_traces(marker_line_color='rgb(8,48,107)', marker_line_width=1.5,\n",
    "                    opacity=0.8, textposition='inside') \n",
    "fig1.update_layout(title_text='Incidencia delictiva por bien jurídico afectado', yaxis_title='Bien jurídico afectado',\n",
    "                   xaxis_title='Recuento', height=500, xaxis={'categoryorder':'total descending'})\n",
    "fig1.update_traces(textfont_size=12, textangle=0, textposition=\"outside\", cliponaxis=False)\n",
    "#fig1.update_layout(barmode='stack', xaxis={'categoryorder':'total descending'})\n",
    "fig1.show()"
   ]
  }
 ],
 "metadata": {
  "kernelspec": {
   "display_name": "base",
   "language": "python",
   "name": "python3"
  },
  "language_info": {
   "codemirror_mode": {
    "name": "ipython",
    "version": 3
   },
   "file_extension": ".py",
   "mimetype": "text/x-python",
   "name": "python",
   "nbconvert_exporter": "python",
   "pygments_lexer": "ipython3",
   "version": "3.9.13"
  }
 },
 "nbformat": 4,
 "nbformat_minor": 2
}
